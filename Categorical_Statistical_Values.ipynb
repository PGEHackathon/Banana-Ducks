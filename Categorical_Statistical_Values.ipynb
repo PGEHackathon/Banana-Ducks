{
 "cells": [
  {
   "cell_type": "markdown",
   "id": "df92b015",
   "metadata": {},
   "source": [
    "# Categorical Data - Statistical Analysis\n",
    "\n",
    "This notebook uses Scikit-Learn to handle missing data, analyze, and visualize a dataset."
   ]
  },
  {
   "cell_type": "markdown",
   "id": "7abebfb6",
   "metadata": {},
   "source": [
    "## Importing Libraries\n",
    "\n",
    "Importing required libraries:\n",
    "- `pandas`: For data handling.\n",
    "- `matplotlib.pyplot` and `seaborn`: For plotting.\n",
    "- `SimpleImputer`: For filling missing values."
   ]
  },
  {
   "cell_type": "code",
   "execution_count": 1,
   "id": "4da0a509",
   "metadata": {},
   "outputs": [],
   "source": [
    "import os                                                 # to set current working directory \n",
    "import math                                               # basic calculations like square root\n",
    "from sklearn.model_selection import train_test_split      # train and test split\n",
    "from sklearn import svm                                   # support vector machine methods\n",
    "from sklearn import tree                                  # tree program from scikit learn (package for machine learning)\n",
    "from sklearn.metrics import mean_squared_error, r2_score  # specific measures to check our models\n",
    "from sklearn.impute import SimpleImputer\n",
    "import pandas as pd                                       # DataFrames and plotting\n",
    "import pandas.plotting as pd_plot\n",
    "import numpy as np                                        # arrays and matrix math\n",
    "import matplotlib.pyplot as plt                           # plotting\n",
    "from intake import cat                                    # data catalogue"
   ]
  },
  {
   "cell_type": "markdown",
   "id": "011ceb6d",
   "metadata": {},
   "source": [
    "#### Declare functions\n",
    "\n",
    "Let's define a couple of functions to streamline plotting correlation matrices and visualization of a machine learning regression model responce over the 2 predictor features. "
   ]
  },
  {
   "cell_type": "code",
   "execution_count": 2,
   "id": "48ead0ca",
   "metadata": {},
   "outputs": [],
   "source": [
    "def plot_corr(dataframe,size=10):                         # plots a graphical correlation matrix \n",
    "    corr = dataframe.corr()\n",
    "    fig, ax = plt.subplots(figsize=(size, size))\n",
    "    im = ax.matshow(corr,vmin = -1.0, vmax = 1.0)\n",
    "    plt.xticks(range(len(corr.columns)), corr.columns);\n",
    "    plt.yticks(range(len(corr.columns)), corr.columns);\n",
    "    plt.colorbar(im, orientation = 'vertical')\n",
    "    plt.title('Correlation Matrix')\n",
    "    \n",
    "def visualize_model(model,xfeature,yfeature,response,title,):# plots the data points and the decision tree prediction \n",
    "    n_classes = 10\n",
    "    cmap = plt.cm.RdYlBu\n",
    "    plot_step = 0.02\n",
    "    x_min, x_max = min(xfeature) - 1, max(xfeature) + 1\n",
    "    y_min, y_max = min(yfeature) - 1, max(yfeature) + 1\n",
    "    resp_min = round(min(response)); resp_max = round(max(response));\n",
    "    xx, yy = np.meshgrid(np.arange(x_min, x_max, plot_step),\n",
    "                     np.arange(y_min, y_max, plot_step))\n",
    "    z_min = round(min(response)); z_max = round(max(response))\n",
    "    Z = model.predict(np.c_[xx.ravel(), yy.ravel()])\n",
    "    Z = Z.reshape(xx.shape)\n",
    "    cs = plt.contourf(xx, yy, Z, cmap=cmap,vmin=z_min, vmax=z_max)\n",
    "\n",
    "    im = plt.scatter(xfeature,yfeature,s=None, c=response, marker=None, cmap=cmap, norm=None, vmin=z_min, vmax=z_max, alpha=0.8, linewidths=0.3, edgecolors=\"black\")\n",
    "    plt.title(title)\n",
    "    plt.xlabel(xfeature.name)\n",
    "    plt.ylabel(yfeature.name)\n",
    "    cbar = plt.colorbar(im, orientation = 'vertical')\n",
    "    cbar.set_label(response.name, rotation=270, labelpad=20)\n",
    "    return(plt)\n"
   ]
  },
  {
   "cell_type": "markdown",
   "id": "cf377b75",
   "metadata": {},
   "source": [
    "#### Read the data table"
   ]
  },
  {
   "cell_type": "code",
   "execution_count": 3,
   "id": "7c124a74",
   "metadata": {},
   "outputs": [],
   "source": [
    "my_data = pd.read_csv(\"Categorical_HackathonData2024.csv\")"
   ]
  },
  {
   "cell_type": "markdown",
   "id": "244a6e7e",
   "metadata": {},
   "source": [
    "## Statistical Analysis\n",
    "\n",
    "Calculate basic statistics (mean, standard deviation, etc.) for the numeric data.\n",
    "\n",
    "Let's visualize the first several rows of our data stored in a DataFrame so we can make sure we successfully loaded the data file."
   ]
  },
  {
   "cell_type": "code",
   "execution_count": 4,
   "id": "71481de6",
   "metadata": {},
   "outputs": [
    {
     "data": {
      "text/html": [
       "<div>\n",
       "<style scoped>\n",
       "    .dataframe tbody tr th:only-of-type {\n",
       "        vertical-align: middle;\n",
       "    }\n",
       "\n",
       "    .dataframe tbody tr th {\n",
       "        vertical-align: top;\n",
       "    }\n",
       "\n",
       "    .dataframe thead th {\n",
       "        text-align: right;\n",
       "    }\n",
       "</style>\n",
       "<table border=\"1\" class=\"dataframe\">\n",
       "  <thead>\n",
       "    <tr style=\"text-align: right;\">\n",
       "      <th></th>\n",
       "      <th>Well ID</th>\n",
       "      <th>Avg Pump Difference</th>\n",
       "      <th>Area</th>\n",
       "      <th>Fluid System</th>\n",
       "      <th>Development Strategy</th>\n",
       "      <th>DELAYED</th>\n",
       "      <th>BOUND_CODE</th>\n",
       "      <th>CODEV_POSITION</th>\n",
       "      <th>CODEV_FORMATION_POSITION</th>\n",
       "    </tr>\n",
       "  </thead>\n",
       "  <tbody>\n",
       "    <tr>\n",
       "      <th>0</th>\n",
       "      <td>1</td>\n",
       "      <td>-0.93</td>\n",
       "      <td>Acadia</td>\n",
       "      <td>Campbell</td>\n",
       "      <td>Coke</td>\n",
       "      <td>1</td>\n",
       "      <td>11100000</td>\n",
       "      <td>Edge</td>\n",
       "      <td>Edge</td>\n",
       "    </tr>\n",
       "    <tr>\n",
       "      <th>1</th>\n",
       "      <td>2</td>\n",
       "      <td>-8.45</td>\n",
       "      <td>Acadia</td>\n",
       "      <td>Campbell</td>\n",
       "      <td>Coke</td>\n",
       "      <td>1</td>\n",
       "      <td>11100000</td>\n",
       "      <td>Edge</td>\n",
       "      <td>Edge</td>\n",
       "    </tr>\n",
       "    <tr>\n",
       "      <th>2</th>\n",
       "      <td>3</td>\n",
       "      <td>8.70</td>\n",
       "      <td>Arches</td>\n",
       "      <td>Campbell</td>\n",
       "      <td>Orange Crush</td>\n",
       "      <td>0</td>\n",
       "      <td>101111</td>\n",
       "      <td>Middle</td>\n",
       "      <td>Edge</td>\n",
       "    </tr>\n",
       "    <tr>\n",
       "      <th>3</th>\n",
       "      <td>5</td>\n",
       "      <td>19.93</td>\n",
       "      <td>Badlands</td>\n",
       "      <td>Campbell</td>\n",
       "      <td>Mountain Dew</td>\n",
       "      <td>1</td>\n",
       "      <td>10001101</td>\n",
       "      <td>Edge</td>\n",
       "      <td>Edge</td>\n",
       "    </tr>\n",
       "    <tr>\n",
       "      <th>4</th>\n",
       "      <td>6</td>\n",
       "      <td>-4.34</td>\n",
       "      <td>Big Bend</td>\n",
       "      <td>Campbell</td>\n",
       "      <td>Coke</td>\n",
       "      <td>1</td>\n",
       "      <td>11110000</td>\n",
       "      <td>Edge</td>\n",
       "      <td>Edge</td>\n",
       "    </tr>\n",
       "  </tbody>\n",
       "</table>\n",
       "</div>"
      ],
      "text/plain": [
       "   Well ID  Avg Pump Difference      Area Fluid System Development Strategy  \\\n",
       "0        1                -0.93    Acadia     Campbell                 Coke   \n",
       "1        2                -8.45    Acadia     Campbell                 Coke   \n",
       "2        3                 8.70    Arches     Campbell         Orange Crush   \n",
       "3        5                19.93  Badlands     Campbell         Mountain Dew   \n",
       "4        6                -4.34  Big Bend     Campbell                 Coke   \n",
       "\n",
       "   DELAYED  BOUND_CODE CODEV_POSITION CODEV_FORMATION_POSITION  \n",
       "0        1    11100000           Edge                     Edge  \n",
       "1        1    11100000           Edge                     Edge  \n",
       "2        0      101111         Middle                     Edge  \n",
       "3        1    10001101           Edge                     Edge  \n",
       "4        1    11110000           Edge                     Edge  "
      ]
     },
     "execution_count": 4,
     "metadata": {},
     "output_type": "execute_result"
    }
   ],
   "source": [
    "my_data.head()                                            # preview the first 5 rows of the dataframe"
   ]
  },
  {
   "cell_type": "markdown",
   "id": "169885a6",
   "metadata": {},
   "source": [
    "Let's remove the well index and check the summary summary statistics."
   ]
  },
  {
   "cell_type": "code",
   "execution_count": 5,
   "id": "5b66bf28",
   "metadata": {
    "scrolled": true
   },
   "outputs": [
    {
     "data": {
      "text/html": [
       "<style type=\"text/css\">\n",
       "</style>\n",
       "<table id=\"T_51818\">\n",
       "  <thead>\n",
       "    <tr>\n",
       "      <th class=\"blank level0\" >&nbsp;</th>\n",
       "      <th id=\"T_51818_level0_col0\" class=\"col_heading level0 col0\" >count</th>\n",
       "      <th id=\"T_51818_level0_col1\" class=\"col_heading level0 col1\" >mean</th>\n",
       "      <th id=\"T_51818_level0_col2\" class=\"col_heading level0 col2\" >std</th>\n",
       "      <th id=\"T_51818_level0_col3\" class=\"col_heading level0 col3\" >min</th>\n",
       "      <th id=\"T_51818_level0_col4\" class=\"col_heading level0 col4\" >25%</th>\n",
       "      <th id=\"T_51818_level0_col5\" class=\"col_heading level0 col5\" >50%</th>\n",
       "      <th id=\"T_51818_level0_col6\" class=\"col_heading level0 col6\" >75%</th>\n",
       "      <th id=\"T_51818_level0_col7\" class=\"col_heading level0 col7\" >max</th>\n",
       "      <th id=\"T_51818_level0_col8\" class=\"col_heading level0 col8\" >NaN%</th>\n",
       "    </tr>\n",
       "  </thead>\n",
       "  <tbody>\n",
       "    <tr>\n",
       "      <th id=\"T_51818_level0_row0\" class=\"row_heading level0 row0\" >Avg Pump Difference</th>\n",
       "      <td id=\"T_51818_row0_col0\" class=\"data row0 col0\" >333.00</td>\n",
       "      <td id=\"T_51818_row0_col1\" class=\"data row0 col1\" >22.46</td>\n",
       "      <td id=\"T_51818_row0_col2\" class=\"data row0 col2\" >24.33</td>\n",
       "      <td id=\"T_51818_row0_col3\" class=\"data row0 col3\" >-12.69</td>\n",
       "      <td id=\"T_51818_row0_col4\" class=\"data row0 col4\" >3.86</td>\n",
       "      <td id=\"T_51818_row0_col5\" class=\"data row0 col5\" >17.37</td>\n",
       "      <td id=\"T_51818_row0_col6\" class=\"data row0 col6\" >34.33</td>\n",
       "      <td id=\"T_51818_row0_col7\" class=\"data row0 col7\" >117.26</td>\n",
       "      <td id=\"T_51818_row0_col8\" class=\"data row0 col8\" >0.00</td>\n",
       "    </tr>\n",
       "    <tr>\n",
       "      <th id=\"T_51818_level0_row1\" class=\"row_heading level0 row1\" >DELAYED</th>\n",
       "      <td id=\"T_51818_row1_col0\" class=\"data row1 col0\" >333.00</td>\n",
       "      <td id=\"T_51818_row1_col1\" class=\"data row1 col1\" >0.71</td>\n",
       "      <td id=\"T_51818_row1_col2\" class=\"data row1 col2\" >0.45</td>\n",
       "      <td id=\"T_51818_row1_col3\" class=\"data row1 col3\" >0.00</td>\n",
       "      <td id=\"T_51818_row1_col4\" class=\"data row1 col4\" >0.00</td>\n",
       "      <td id=\"T_51818_row1_col5\" class=\"data row1 col5\" >1.00</td>\n",
       "      <td id=\"T_51818_row1_col6\" class=\"data row1 col6\" >1.00</td>\n",
       "      <td id=\"T_51818_row1_col7\" class=\"data row1 col7\" >1.00</td>\n",
       "      <td id=\"T_51818_row1_col8\" class=\"data row1 col8\" >0.00</td>\n",
       "    </tr>\n",
       "    <tr>\n",
       "      <th id=\"T_51818_level0_row2\" class=\"row_heading level0 row2\" >BOUND_CODE</th>\n",
       "      <td id=\"T_51818_row2_col0\" class=\"data row2 col0\" >333.00</td>\n",
       "      <td id=\"T_51818_row2_col1\" class=\"data row2 col1\" >9894515.36</td>\n",
       "      <td id=\"T_51818_row2_col2\" class=\"data row2 col2\" >2820923.89</td>\n",
       "      <td id=\"T_51818_row2_col3\" class=\"data row2 col3\" >1110.00</td>\n",
       "      <td id=\"T_51818_row2_col4\" class=\"data row2 col4\" >10001001.00</td>\n",
       "      <td id=\"T_51818_row2_col5\" class=\"data row2 col5\" >11011001.00</td>\n",
       "      <td id=\"T_51818_row2_col6\" class=\"data row2 col6\" >11111000.00</td>\n",
       "      <td id=\"T_51818_row2_col7\" class=\"data row2 col7\" >11111111.00</td>\n",
       "      <td id=\"T_51818_row2_col8\" class=\"data row2 col8\" >0.00</td>\n",
       "    </tr>\n",
       "  </tbody>\n",
       "</table>\n"
      ],
      "text/plain": [
       "<pandas.io.formats.style.Styler at 0x29de58869d0>"
      ]
     },
     "execution_count": 5,
     "metadata": {},
     "output_type": "execute_result"
    }
   ],
   "source": [
    "nan_percentage = my_data.isna().mean() * 100               # Calculate the percentage of NaN values for each column\n",
    "\n",
    "# Remove \"Well ID\" if present\n",
    "if 'Well ID' in my_data.columns:\n",
    "    my_data.drop('Well ID', axis=1, inplace=True)\n",
    "    \n",
    "stats_description = my_data.describe().transpose()         # calculate summary statistics for the data\n",
    "\n",
    "stats_description['NaN%'] = nan_percentage   # Add the NaN percentage as a new column\n",
    "\n",
    "# Display the DataFrame with styling\n",
    "styled_description = stats_description.style.format(\"{:.2f}\")\n",
    "styled_description"
   ]
  },
  {
   "cell_type": "markdown",
   "id": "1e55b12d",
   "metadata": {},
   "source": [
    "### "
   ]
  },
  {
   "cell_type": "code",
   "execution_count": null,
   "id": "79b042e9",
   "metadata": {},
   "outputs": [],
   "source": []
  },
  {
   "cell_type": "code",
   "execution_count": null,
   "id": "ecdc3b41",
   "metadata": {},
   "outputs": [],
   "source": []
  },
  {
   "cell_type": "code",
   "execution_count": null,
   "id": "cc38a9e0",
   "metadata": {},
   "outputs": [],
   "source": []
  },
  {
   "cell_type": "code",
   "execution_count": null,
   "id": "6433672d",
   "metadata": {},
   "outputs": [],
   "source": []
  },
  {
   "cell_type": "code",
   "execution_count": null,
   "id": "fdea2dec",
   "metadata": {},
   "outputs": [],
   "source": []
  },
  {
   "cell_type": "code",
   "execution_count": null,
   "id": "5ab88bc8",
   "metadata": {},
   "outputs": [],
   "source": []
  },
  {
   "cell_type": "code",
   "execution_count": null,
   "id": "f380775b",
   "metadata": {},
   "outputs": [],
   "source": []
  },
  {
   "cell_type": "code",
   "execution_count": null,
   "id": "e6ecf121",
   "metadata": {},
   "outputs": [],
   "source": []
  },
  {
   "cell_type": "code",
   "execution_count": null,
   "id": "fcd89b99",
   "metadata": {},
   "outputs": [],
   "source": []
  },
  {
   "cell_type": "code",
   "execution_count": null,
   "id": "62ff8a50",
   "metadata": {},
   "outputs": [],
   "source": []
  },
  {
   "cell_type": "code",
   "execution_count": null,
   "id": "7fafdd34",
   "metadata": {},
   "outputs": [],
   "source": []
  },
  {
   "cell_type": "code",
   "execution_count": null,
   "id": "ae0d2301",
   "metadata": {},
   "outputs": [],
   "source": []
  },
  {
   "cell_type": "code",
   "execution_count": null,
   "id": "03671c4f",
   "metadata": {},
   "outputs": [],
   "source": []
  },
  {
   "cell_type": "code",
   "execution_count": null,
   "id": "cb3c47d9",
   "metadata": {},
   "outputs": [],
   "source": []
  },
  {
   "cell_type": "code",
   "execution_count": null,
   "id": "eb8518f7",
   "metadata": {},
   "outputs": [],
   "source": []
  },
  {
   "cell_type": "code",
   "execution_count": null,
   "id": "307f0004",
   "metadata": {},
   "outputs": [],
   "source": []
  },
  {
   "cell_type": "code",
   "execution_count": null,
   "id": "ac306177",
   "metadata": {},
   "outputs": [],
   "source": []
  },
  {
   "cell_type": "code",
   "execution_count": null,
   "id": "dbb45b13",
   "metadata": {},
   "outputs": [],
   "source": []
  },
  {
   "cell_type": "code",
   "execution_count": null,
   "id": "95e9c959",
   "metadata": {},
   "outputs": [],
   "source": []
  },
  {
   "cell_type": "code",
   "execution_count": null,
   "id": "d4d86091",
   "metadata": {},
   "outputs": [],
   "source": []
  },
  {
   "cell_type": "code",
   "execution_count": null,
   "id": "12ccef8c",
   "metadata": {},
   "outputs": [],
   "source": []
  },
  {
   "cell_type": "code",
   "execution_count": null,
   "id": "d1c71f03",
   "metadata": {},
   "outputs": [],
   "source": []
  },
  {
   "cell_type": "code",
   "execution_count": null,
   "id": "1dfbf58a",
   "metadata": {},
   "outputs": [],
   "source": []
  },
  {
   "cell_type": "code",
   "execution_count": null,
   "id": "b9008261",
   "metadata": {},
   "outputs": [],
   "source": []
  },
  {
   "cell_type": "code",
   "execution_count": null,
   "id": "ee50632e",
   "metadata": {},
   "outputs": [],
   "source": []
  },
  {
   "cell_type": "code",
   "execution_count": null,
   "id": "28c3ef2e",
   "metadata": {},
   "outputs": [],
   "source": []
  },
  {
   "cell_type": "code",
   "execution_count": null,
   "id": "579b34ce",
   "metadata": {},
   "outputs": [],
   "source": []
  },
  {
   "cell_type": "code",
   "execution_count": null,
   "id": "052dae34",
   "metadata": {},
   "outputs": [],
   "source": []
  },
  {
   "cell_type": "code",
   "execution_count": null,
   "id": "58a98b5f",
   "metadata": {},
   "outputs": [],
   "source": []
  },
  {
   "cell_type": "code",
   "execution_count": null,
   "id": "e4b7cd55",
   "metadata": {},
   "outputs": [],
   "source": []
  },
  {
   "cell_type": "code",
   "execution_count": null,
   "id": "3eb107e1",
   "metadata": {},
   "outputs": [],
   "source": []
  },
  {
   "cell_type": "code",
   "execution_count": null,
   "id": "ac9ae8ba",
   "metadata": {},
   "outputs": [],
   "source": []
  },
  {
   "cell_type": "code",
   "execution_count": null,
   "id": "e2c0cdfd",
   "metadata": {},
   "outputs": [],
   "source": []
  },
  {
   "cell_type": "code",
   "execution_count": null,
   "id": "ea74b062",
   "metadata": {},
   "outputs": [],
   "source": []
  },
  {
   "cell_type": "code",
   "execution_count": null,
   "id": "7031b369",
   "metadata": {},
   "outputs": [],
   "source": []
  },
  {
   "cell_type": "code",
   "execution_count": null,
   "id": "ad22883a",
   "metadata": {},
   "outputs": [],
   "source": []
  },
  {
   "cell_type": "code",
   "execution_count": null,
   "id": "86435030",
   "metadata": {},
   "outputs": [],
   "source": []
  },
  {
   "cell_type": "code",
   "execution_count": null,
   "id": "9941dd62",
   "metadata": {},
   "outputs": [],
   "source": []
  },
  {
   "cell_type": "code",
   "execution_count": null,
   "id": "0170c47c",
   "metadata": {},
   "outputs": [],
   "source": []
  },
  {
   "cell_type": "code",
   "execution_count": null,
   "id": "984b4eff",
   "metadata": {},
   "outputs": [],
   "source": []
  },
  {
   "cell_type": "code",
   "execution_count": null,
   "id": "9c0bdd16",
   "metadata": {},
   "outputs": [],
   "source": []
  },
  {
   "cell_type": "code",
   "execution_count": null,
   "id": "35b36e2a",
   "metadata": {},
   "outputs": [],
   "source": []
  },
  {
   "cell_type": "code",
   "execution_count": null,
   "id": "c1393a19",
   "metadata": {},
   "outputs": [],
   "source": []
  },
  {
   "cell_type": "code",
   "execution_count": null,
   "id": "e927f952",
   "metadata": {},
   "outputs": [],
   "source": []
  },
  {
   "cell_type": "code",
   "execution_count": null,
   "id": "81b02438",
   "metadata": {},
   "outputs": [],
   "source": []
  },
  {
   "cell_type": "code",
   "execution_count": null,
   "id": "17856c1a",
   "metadata": {},
   "outputs": [],
   "source": []
  },
  {
   "cell_type": "code",
   "execution_count": null,
   "id": "a3bd137c",
   "metadata": {},
   "outputs": [],
   "source": []
  },
  {
   "cell_type": "code",
   "execution_count": null,
   "id": "204747c7",
   "metadata": {},
   "outputs": [],
   "source": []
  },
  {
   "cell_type": "code",
   "execution_count": null,
   "id": "dfffbfa9",
   "metadata": {},
   "outputs": [],
   "source": []
  },
  {
   "cell_type": "code",
   "execution_count": null,
   "id": "6e1ade4c",
   "metadata": {},
   "outputs": [],
   "source": []
  },
  {
   "cell_type": "code",
   "execution_count": null,
   "id": "f8dc38c9",
   "metadata": {},
   "outputs": [],
   "source": []
  },
  {
   "cell_type": "code",
   "execution_count": null,
   "id": "5cdd5add",
   "metadata": {},
   "outputs": [],
   "source": []
  },
  {
   "cell_type": "code",
   "execution_count": null,
   "id": "d03350cc",
   "metadata": {},
   "outputs": [],
   "source": []
  },
  {
   "cell_type": "code",
   "execution_count": null,
   "id": "79fc7d6c",
   "metadata": {},
   "outputs": [],
   "source": []
  },
  {
   "cell_type": "code",
   "execution_count": null,
   "id": "148124d1",
   "metadata": {},
   "outputs": [],
   "source": []
  },
  {
   "cell_type": "code",
   "execution_count": null,
   "id": "1aa373be",
   "metadata": {},
   "outputs": [],
   "source": []
  },
  {
   "cell_type": "code",
   "execution_count": null,
   "id": "f7eef9e3",
   "metadata": {},
   "outputs": [],
   "source": []
  },
  {
   "cell_type": "code",
   "execution_count": null,
   "id": "30577cd0",
   "metadata": {},
   "outputs": [],
   "source": []
  },
  {
   "cell_type": "code",
   "execution_count": null,
   "id": "a3d6ef21",
   "metadata": {},
   "outputs": [],
   "source": []
  },
  {
   "cell_type": "code",
   "execution_count": null,
   "id": "abd2ba08",
   "metadata": {},
   "outputs": [],
   "source": []
  },
  {
   "cell_type": "code",
   "execution_count": null,
   "id": "4712e11a",
   "metadata": {},
   "outputs": [],
   "source": []
  },
  {
   "cell_type": "code",
   "execution_count": null,
   "id": "f7dab72f",
   "metadata": {},
   "outputs": [],
   "source": []
  },
  {
   "cell_type": "code",
   "execution_count": null,
   "id": "361be4b4",
   "metadata": {},
   "outputs": [],
   "source": []
  },
  {
   "cell_type": "code",
   "execution_count": null,
   "id": "2f18e975",
   "metadata": {},
   "outputs": [],
   "source": []
  },
  {
   "cell_type": "code",
   "execution_count": null,
   "id": "95e503d9",
   "metadata": {},
   "outputs": [],
   "source": []
  },
  {
   "cell_type": "code",
   "execution_count": null,
   "id": "41d57714",
   "metadata": {},
   "outputs": [],
   "source": []
  },
  {
   "cell_type": "code",
   "execution_count": null,
   "id": "2023bd1a",
   "metadata": {},
   "outputs": [],
   "source": []
  },
  {
   "cell_type": "code",
   "execution_count": null,
   "id": "803dee32",
   "metadata": {},
   "outputs": [],
   "source": []
  },
  {
   "cell_type": "code",
   "execution_count": null,
   "id": "3c98b08d",
   "metadata": {},
   "outputs": [],
   "source": []
  },
  {
   "cell_type": "code",
   "execution_count": null,
   "id": "ac233ecf",
   "metadata": {},
   "outputs": [],
   "source": []
  },
  {
   "cell_type": "code",
   "execution_count": null,
   "id": "2a6e3b4b",
   "metadata": {},
   "outputs": [],
   "source": []
  },
  {
   "cell_type": "code",
   "execution_count": null,
   "id": "ec16d81d",
   "metadata": {},
   "outputs": [],
   "source": []
  },
  {
   "cell_type": "code",
   "execution_count": null,
   "id": "80022960",
   "metadata": {},
   "outputs": [],
   "source": []
  },
  {
   "cell_type": "code",
   "execution_count": null,
   "id": "6242f344",
   "metadata": {},
   "outputs": [],
   "source": []
  },
  {
   "cell_type": "code",
   "execution_count": null,
   "id": "602be8ad",
   "metadata": {},
   "outputs": [],
   "source": []
  },
  {
   "cell_type": "code",
   "execution_count": null,
   "id": "c06ccec5",
   "metadata": {},
   "outputs": [],
   "source": []
  },
  {
   "cell_type": "code",
   "execution_count": null,
   "id": "92000912",
   "metadata": {},
   "outputs": [],
   "source": []
  },
  {
   "cell_type": "code",
   "execution_count": null,
   "id": "1a065d80",
   "metadata": {},
   "outputs": [],
   "source": []
  },
  {
   "cell_type": "code",
   "execution_count": null,
   "id": "65808278",
   "metadata": {},
   "outputs": [],
   "source": []
  },
  {
   "cell_type": "code",
   "execution_count": null,
   "id": "5f501bc0",
   "metadata": {},
   "outputs": [],
   "source": []
  },
  {
   "cell_type": "code",
   "execution_count": null,
   "id": "414668d5",
   "metadata": {},
   "outputs": [],
   "source": []
  },
  {
   "cell_type": "code",
   "execution_count": null,
   "id": "a674d7c4",
   "metadata": {},
   "outputs": [],
   "source": []
  },
  {
   "cell_type": "code",
   "execution_count": null,
   "id": "f0ca9319",
   "metadata": {},
   "outputs": [],
   "source": []
  },
  {
   "cell_type": "code",
   "execution_count": null,
   "id": "b9749377",
   "metadata": {},
   "outputs": [],
   "source": []
  },
  {
   "cell_type": "code",
   "execution_count": null,
   "id": "dd3fa921",
   "metadata": {},
   "outputs": [],
   "source": []
  },
  {
   "cell_type": "code",
   "execution_count": null,
   "id": "e438ad3c",
   "metadata": {},
   "outputs": [],
   "source": []
  },
  {
   "cell_type": "code",
   "execution_count": null,
   "id": "8b24d35e",
   "metadata": {},
   "outputs": [],
   "source": []
  },
  {
   "cell_type": "code",
   "execution_count": null,
   "id": "5f35044b",
   "metadata": {},
   "outputs": [],
   "source": []
  },
  {
   "cell_type": "code",
   "execution_count": null,
   "id": "502c78b5",
   "metadata": {},
   "outputs": [],
   "source": []
  },
  {
   "cell_type": "code",
   "execution_count": null,
   "id": "814cd6c0",
   "metadata": {},
   "outputs": [],
   "source": []
  },
  {
   "cell_type": "code",
   "execution_count": null,
   "id": "086322d5",
   "metadata": {},
   "outputs": [],
   "source": []
  },
  {
   "cell_type": "code",
   "execution_count": null,
   "id": "6475884a",
   "metadata": {},
   "outputs": [],
   "source": []
  },
  {
   "cell_type": "code",
   "execution_count": null,
   "id": "c653c478",
   "metadata": {},
   "outputs": [],
   "source": []
  },
  {
   "cell_type": "code",
   "execution_count": null,
   "id": "0ab29344",
   "metadata": {},
   "outputs": [],
   "source": []
  },
  {
   "cell_type": "code",
   "execution_count": null,
   "id": "00348afc",
   "metadata": {},
   "outputs": [],
   "source": []
  },
  {
   "cell_type": "code",
   "execution_count": null,
   "id": "15b073ab",
   "metadata": {},
   "outputs": [],
   "source": []
  },
  {
   "cell_type": "code",
   "execution_count": null,
   "id": "74c94f90",
   "metadata": {},
   "outputs": [],
   "source": []
  },
  {
   "cell_type": "code",
   "execution_count": null,
   "id": "5b8e1053",
   "metadata": {},
   "outputs": [],
   "source": []
  },
  {
   "cell_type": "code",
   "execution_count": null,
   "id": "4d350968",
   "metadata": {},
   "outputs": [],
   "source": []
  },
  {
   "cell_type": "code",
   "execution_count": null,
   "id": "aa485d05",
   "metadata": {},
   "outputs": [],
   "source": []
  },
  {
   "cell_type": "code",
   "execution_count": null,
   "id": "5ae8522a",
   "metadata": {},
   "outputs": [],
   "source": []
  },
  {
   "cell_type": "code",
   "execution_count": null,
   "id": "31718b37",
   "metadata": {},
   "outputs": [],
   "source": []
  },
  {
   "cell_type": "code",
   "execution_count": null,
   "id": "d206ad81",
   "metadata": {},
   "outputs": [],
   "source": []
  },
  {
   "cell_type": "code",
   "execution_count": null,
   "id": "03abad59",
   "metadata": {},
   "outputs": [],
   "source": []
  },
  {
   "cell_type": "code",
   "execution_count": null,
   "id": "dbe6895a",
   "metadata": {},
   "outputs": [],
   "source": []
  },
  {
   "cell_type": "code",
   "execution_count": null,
   "id": "ddd73840",
   "metadata": {},
   "outputs": [],
   "source": []
  },
  {
   "cell_type": "code",
   "execution_count": null,
   "id": "21c0977b",
   "metadata": {},
   "outputs": [],
   "source": []
  },
  {
   "cell_type": "code",
   "execution_count": null,
   "id": "02a28988",
   "metadata": {},
   "outputs": [],
   "source": []
  },
  {
   "cell_type": "code",
   "execution_count": null,
   "id": "ed701881",
   "metadata": {},
   "outputs": [],
   "source": []
  },
  {
   "cell_type": "code",
   "execution_count": null,
   "id": "1f9ddd53",
   "metadata": {},
   "outputs": [],
   "source": []
  },
  {
   "cell_type": "code",
   "execution_count": null,
   "id": "5b6835a1",
   "metadata": {},
   "outputs": [],
   "source": []
  },
  {
   "cell_type": "code",
   "execution_count": null,
   "id": "9163eee3",
   "metadata": {},
   "outputs": [],
   "source": []
  },
  {
   "cell_type": "code",
   "execution_count": null,
   "id": "73f4e066",
   "metadata": {},
   "outputs": [],
   "source": []
  },
  {
   "cell_type": "code",
   "execution_count": null,
   "id": "838ae191",
   "metadata": {},
   "outputs": [],
   "source": []
  },
  {
   "cell_type": "code",
   "execution_count": null,
   "id": "2419b6c4",
   "metadata": {},
   "outputs": [],
   "source": []
  },
  {
   "cell_type": "code",
   "execution_count": null,
   "id": "9ed2ffe2",
   "metadata": {},
   "outputs": [],
   "source": []
  },
  {
   "cell_type": "code",
   "execution_count": null,
   "id": "31a15c63",
   "metadata": {},
   "outputs": [],
   "source": []
  },
  {
   "cell_type": "code",
   "execution_count": null,
   "id": "d5798c22",
   "metadata": {},
   "outputs": [],
   "source": []
  },
  {
   "cell_type": "code",
   "execution_count": null,
   "id": "241a0df8",
   "metadata": {},
   "outputs": [],
   "source": []
  },
  {
   "cell_type": "code",
   "execution_count": null,
   "id": "f1edd2e6",
   "metadata": {},
   "outputs": [],
   "source": []
  },
  {
   "cell_type": "code",
   "execution_count": null,
   "id": "47feec86",
   "metadata": {},
   "outputs": [],
   "source": []
  },
  {
   "cell_type": "code",
   "execution_count": null,
   "id": "ac2134f9",
   "metadata": {},
   "outputs": [],
   "source": []
  },
  {
   "cell_type": "code",
   "execution_count": null,
   "id": "fc84ddef",
   "metadata": {},
   "outputs": [],
   "source": []
  },
  {
   "cell_type": "code",
   "execution_count": null,
   "id": "c33598ba",
   "metadata": {},
   "outputs": [],
   "source": []
  },
  {
   "cell_type": "code",
   "execution_count": null,
   "id": "1301ad2a",
   "metadata": {},
   "outputs": [],
   "source": []
  },
  {
   "cell_type": "code",
   "execution_count": null,
   "id": "a86ba1c1",
   "metadata": {},
   "outputs": [],
   "source": []
  },
  {
   "cell_type": "code",
   "execution_count": null,
   "id": "a7f711d7",
   "metadata": {},
   "outputs": [],
   "source": []
  },
  {
   "cell_type": "code",
   "execution_count": null,
   "id": "7b9713c7",
   "metadata": {},
   "outputs": [],
   "source": []
  },
  {
   "cell_type": "code",
   "execution_count": null,
   "id": "923b79b8",
   "metadata": {},
   "outputs": [],
   "source": []
  },
  {
   "cell_type": "code",
   "execution_count": null,
   "id": "59d4fc0c",
   "metadata": {},
   "outputs": [],
   "source": []
  },
  {
   "cell_type": "code",
   "execution_count": null,
   "id": "2069c5db",
   "metadata": {},
   "outputs": [],
   "source": []
  },
  {
   "cell_type": "code",
   "execution_count": null,
   "id": "020f0bf9",
   "metadata": {},
   "outputs": [],
   "source": []
  },
  {
   "cell_type": "code",
   "execution_count": null,
   "id": "76d59647",
   "metadata": {},
   "outputs": [],
   "source": []
  },
  {
   "cell_type": "code",
   "execution_count": null,
   "id": "1c3c10a7",
   "metadata": {},
   "outputs": [],
   "source": []
  },
  {
   "cell_type": "code",
   "execution_count": null,
   "id": "11bbac09",
   "metadata": {},
   "outputs": [],
   "source": []
  },
  {
   "cell_type": "code",
   "execution_count": null,
   "id": "72054440",
   "metadata": {},
   "outputs": [],
   "source": []
  },
  {
   "cell_type": "code",
   "execution_count": null,
   "id": "7ad350d0",
   "metadata": {},
   "outputs": [],
   "source": []
  },
  {
   "cell_type": "code",
   "execution_count": null,
   "id": "fac06256",
   "metadata": {},
   "outputs": [],
   "source": []
  },
  {
   "cell_type": "code",
   "execution_count": null,
   "id": "ef87bfae",
   "metadata": {},
   "outputs": [],
   "source": []
  },
  {
   "cell_type": "code",
   "execution_count": null,
   "id": "cb9ebb46",
   "metadata": {},
   "outputs": [],
   "source": []
  },
  {
   "cell_type": "code",
   "execution_count": null,
   "id": "5e9dabc9",
   "metadata": {},
   "outputs": [],
   "source": []
  },
  {
   "cell_type": "code",
   "execution_count": null,
   "id": "ea0a9db7",
   "metadata": {},
   "outputs": [],
   "source": []
  },
  {
   "cell_type": "code",
   "execution_count": null,
   "id": "0bacd113",
   "metadata": {},
   "outputs": [],
   "source": []
  },
  {
   "cell_type": "code",
   "execution_count": null,
   "id": "ec36f6d4",
   "metadata": {},
   "outputs": [],
   "source": []
  },
  {
   "cell_type": "code",
   "execution_count": null,
   "id": "16814a63",
   "metadata": {},
   "outputs": [],
   "source": []
  },
  {
   "cell_type": "code",
   "execution_count": null,
   "id": "0c40e6f1",
   "metadata": {},
   "outputs": [],
   "source": []
  },
  {
   "cell_type": "code",
   "execution_count": null,
   "id": "08b1e02c",
   "metadata": {},
   "outputs": [],
   "source": []
  },
  {
   "cell_type": "code",
   "execution_count": null,
   "id": "ac58f38b",
   "metadata": {},
   "outputs": [],
   "source": []
  },
  {
   "cell_type": "code",
   "execution_count": null,
   "id": "5a5fe31d",
   "metadata": {},
   "outputs": [],
   "source": []
  },
  {
   "cell_type": "code",
   "execution_count": null,
   "id": "69be5092",
   "metadata": {},
   "outputs": [],
   "source": []
  },
  {
   "cell_type": "code",
   "execution_count": null,
   "id": "434c16a6",
   "metadata": {},
   "outputs": [],
   "source": []
  },
  {
   "cell_type": "code",
   "execution_count": null,
   "id": "4155bf6b",
   "metadata": {},
   "outputs": [],
   "source": []
  },
  {
   "cell_type": "code",
   "execution_count": null,
   "id": "8151ac54",
   "metadata": {},
   "outputs": [],
   "source": []
  },
  {
   "cell_type": "code",
   "execution_count": null,
   "id": "4ecc949d",
   "metadata": {},
   "outputs": [],
   "source": []
  },
  {
   "cell_type": "code",
   "execution_count": null,
   "id": "be9054ab",
   "metadata": {},
   "outputs": [],
   "source": []
  },
  {
   "cell_type": "code",
   "execution_count": null,
   "id": "c38f7f83",
   "metadata": {},
   "outputs": [],
   "source": []
  },
  {
   "cell_type": "code",
   "execution_count": null,
   "id": "350772fd",
   "metadata": {},
   "outputs": [],
   "source": []
  },
  {
   "cell_type": "code",
   "execution_count": null,
   "id": "cef9b32a",
   "metadata": {},
   "outputs": [],
   "source": []
  },
  {
   "cell_type": "code",
   "execution_count": null,
   "id": "480ba848",
   "metadata": {},
   "outputs": [],
   "source": []
  },
  {
   "cell_type": "code",
   "execution_count": null,
   "id": "ce9c0b7a",
   "metadata": {},
   "outputs": [],
   "source": []
  },
  {
   "cell_type": "code",
   "execution_count": null,
   "id": "79a9c5bc",
   "metadata": {},
   "outputs": [],
   "source": []
  },
  {
   "cell_type": "code",
   "execution_count": null,
   "id": "5cdc44cb",
   "metadata": {},
   "outputs": [],
   "source": []
  },
  {
   "cell_type": "code",
   "execution_count": null,
   "id": "3eef47a0",
   "metadata": {},
   "outputs": [],
   "source": []
  },
  {
   "cell_type": "code",
   "execution_count": null,
   "id": "7fcfb0b0",
   "metadata": {},
   "outputs": [],
   "source": []
  },
  {
   "cell_type": "code",
   "execution_count": null,
   "id": "7f685627",
   "metadata": {},
   "outputs": [],
   "source": []
  },
  {
   "cell_type": "code",
   "execution_count": null,
   "id": "6c32b949",
   "metadata": {},
   "outputs": [],
   "source": []
  },
  {
   "cell_type": "code",
   "execution_count": null,
   "id": "d0010e9b",
   "metadata": {},
   "outputs": [],
   "source": []
  },
  {
   "cell_type": "code",
   "execution_count": null,
   "id": "b7f28cca",
   "metadata": {},
   "outputs": [],
   "source": []
  },
  {
   "cell_type": "code",
   "execution_count": null,
   "id": "534a7b4d",
   "metadata": {},
   "outputs": [],
   "source": []
  },
  {
   "cell_type": "code",
   "execution_count": null,
   "id": "8bb355a1",
   "metadata": {},
   "outputs": [],
   "source": []
  },
  {
   "cell_type": "code",
   "execution_count": null,
   "id": "67daef82",
   "metadata": {},
   "outputs": [],
   "source": []
  },
  {
   "cell_type": "code",
   "execution_count": null,
   "id": "8c713069",
   "metadata": {},
   "outputs": [],
   "source": []
  },
  {
   "cell_type": "code",
   "execution_count": null,
   "id": "7b010950",
   "metadata": {},
   "outputs": [],
   "source": []
  },
  {
   "cell_type": "code",
   "execution_count": null,
   "id": "2539a546",
   "metadata": {},
   "outputs": [],
   "source": []
  },
  {
   "cell_type": "code",
   "execution_count": null,
   "id": "aa366f60",
   "metadata": {},
   "outputs": [],
   "source": []
  },
  {
   "cell_type": "code",
   "execution_count": null,
   "id": "1cb04a60",
   "metadata": {},
   "outputs": [],
   "source": []
  },
  {
   "cell_type": "code",
   "execution_count": null,
   "id": "59ca5b4c",
   "metadata": {},
   "outputs": [],
   "source": []
  },
  {
   "cell_type": "code",
   "execution_count": null,
   "id": "bcfe4631",
   "metadata": {},
   "outputs": [],
   "source": []
  },
  {
   "cell_type": "code",
   "execution_count": null,
   "id": "3b43edd3",
   "metadata": {},
   "outputs": [],
   "source": []
  },
  {
   "cell_type": "code",
   "execution_count": null,
   "id": "7d52c210",
   "metadata": {},
   "outputs": [],
   "source": []
  },
  {
   "cell_type": "code",
   "execution_count": null,
   "id": "a07bee0e",
   "metadata": {},
   "outputs": [],
   "source": []
  },
  {
   "cell_type": "code",
   "execution_count": null,
   "id": "5ac64f81",
   "metadata": {},
   "outputs": [],
   "source": []
  },
  {
   "cell_type": "code",
   "execution_count": null,
   "id": "1ef84864",
   "metadata": {},
   "outputs": [],
   "source": []
  },
  {
   "cell_type": "code",
   "execution_count": null,
   "id": "8c352a3a",
   "metadata": {},
   "outputs": [],
   "source": []
  },
  {
   "cell_type": "code",
   "execution_count": null,
   "id": "52e93413",
   "metadata": {},
   "outputs": [],
   "source": []
  },
  {
   "cell_type": "code",
   "execution_count": null,
   "id": "e4c18f9c",
   "metadata": {},
   "outputs": [],
   "source": []
  },
  {
   "cell_type": "code",
   "execution_count": null,
   "id": "a0358530",
   "metadata": {},
   "outputs": [],
   "source": []
  },
  {
   "cell_type": "code",
   "execution_count": null,
   "id": "3f77129c",
   "metadata": {},
   "outputs": [],
   "source": []
  },
  {
   "cell_type": "code",
   "execution_count": null,
   "id": "13dc2e8d",
   "metadata": {},
   "outputs": [],
   "source": []
  },
  {
   "cell_type": "code",
   "execution_count": null,
   "id": "10deea18",
   "metadata": {},
   "outputs": [],
   "source": []
  },
  {
   "cell_type": "code",
   "execution_count": null,
   "id": "6634fb9d",
   "metadata": {},
   "outputs": [],
   "source": []
  },
  {
   "cell_type": "code",
   "execution_count": null,
   "id": "fa48a2ee",
   "metadata": {},
   "outputs": [],
   "source": []
  },
  {
   "cell_type": "code",
   "execution_count": null,
   "id": "c7734968",
   "metadata": {},
   "outputs": [],
   "source": []
  },
  {
   "cell_type": "code",
   "execution_count": null,
   "id": "e82f7163",
   "metadata": {},
   "outputs": [],
   "source": []
  },
  {
   "cell_type": "code",
   "execution_count": null,
   "id": "bc1653f2",
   "metadata": {},
   "outputs": [],
   "source": []
  },
  {
   "cell_type": "code",
   "execution_count": null,
   "id": "501d6281",
   "metadata": {},
   "outputs": [],
   "source": []
  },
  {
   "cell_type": "code",
   "execution_count": null,
   "id": "01e8c220",
   "metadata": {},
   "outputs": [],
   "source": []
  },
  {
   "cell_type": "code",
   "execution_count": null,
   "id": "a6607c81",
   "metadata": {},
   "outputs": [],
   "source": []
  },
  {
   "cell_type": "code",
   "execution_count": null,
   "id": "1a5a75e5",
   "metadata": {},
   "outputs": [],
   "source": []
  },
  {
   "cell_type": "code",
   "execution_count": null,
   "id": "6f9e0d0b",
   "metadata": {},
   "outputs": [],
   "source": []
  },
  {
   "cell_type": "code",
   "execution_count": null,
   "id": "7eb0df15",
   "metadata": {},
   "outputs": [],
   "source": []
  },
  {
   "cell_type": "code",
   "execution_count": null,
   "id": "5f4bfccc",
   "metadata": {},
   "outputs": [],
   "source": []
  },
  {
   "cell_type": "code",
   "execution_count": null,
   "id": "e99acf21",
   "metadata": {},
   "outputs": [],
   "source": []
  },
  {
   "cell_type": "code",
   "execution_count": null,
   "id": "8b7defa5",
   "metadata": {},
   "outputs": [],
   "source": []
  },
  {
   "cell_type": "code",
   "execution_count": null,
   "id": "b61b22b7",
   "metadata": {},
   "outputs": [],
   "source": []
  },
  {
   "cell_type": "code",
   "execution_count": null,
   "id": "3b67754c",
   "metadata": {},
   "outputs": [],
   "source": []
  },
  {
   "cell_type": "code",
   "execution_count": null,
   "id": "1a805a1c",
   "metadata": {},
   "outputs": [],
   "source": []
  },
  {
   "cell_type": "code",
   "execution_count": null,
   "id": "2ba6ecf4",
   "metadata": {},
   "outputs": [],
   "source": []
  },
  {
   "cell_type": "code",
   "execution_count": null,
   "id": "150c71c8",
   "metadata": {},
   "outputs": [],
   "source": []
  },
  {
   "cell_type": "code",
   "execution_count": null,
   "id": "6b2715db",
   "metadata": {},
   "outputs": [],
   "source": []
  },
  {
   "cell_type": "code",
   "execution_count": null,
   "id": "65fb1937",
   "metadata": {},
   "outputs": [],
   "source": []
  },
  {
   "cell_type": "code",
   "execution_count": null,
   "id": "ea95e7a0",
   "metadata": {},
   "outputs": [],
   "source": []
  },
  {
   "cell_type": "code",
   "execution_count": null,
   "id": "a8e42006",
   "metadata": {},
   "outputs": [],
   "source": []
  },
  {
   "cell_type": "code",
   "execution_count": null,
   "id": "0a590e57",
   "metadata": {},
   "outputs": [],
   "source": []
  },
  {
   "cell_type": "code",
   "execution_count": null,
   "id": "eb660d19",
   "metadata": {},
   "outputs": [],
   "source": []
  },
  {
   "cell_type": "code",
   "execution_count": null,
   "id": "ac70aac4",
   "metadata": {},
   "outputs": [],
   "source": []
  },
  {
   "cell_type": "code",
   "execution_count": null,
   "id": "645a8ea5",
   "metadata": {},
   "outputs": [],
   "source": []
  },
  {
   "cell_type": "code",
   "execution_count": null,
   "id": "6c6508a5",
   "metadata": {},
   "outputs": [],
   "source": []
  },
  {
   "cell_type": "code",
   "execution_count": null,
   "id": "2a86234d",
   "metadata": {},
   "outputs": [],
   "source": []
  },
  {
   "cell_type": "code",
   "execution_count": null,
   "id": "818ceca2",
   "metadata": {},
   "outputs": [],
   "source": []
  },
  {
   "cell_type": "code",
   "execution_count": null,
   "id": "97136578",
   "metadata": {},
   "outputs": [],
   "source": []
  },
  {
   "cell_type": "code",
   "execution_count": null,
   "id": "539b6c50",
   "metadata": {},
   "outputs": [],
   "source": []
  },
  {
   "cell_type": "code",
   "execution_count": null,
   "id": "51a24494",
   "metadata": {},
   "outputs": [],
   "source": []
  },
  {
   "cell_type": "code",
   "execution_count": null,
   "id": "690beca6",
   "metadata": {},
   "outputs": [],
   "source": []
  },
  {
   "cell_type": "code",
   "execution_count": null,
   "id": "2f94e588",
   "metadata": {},
   "outputs": [],
   "source": []
  },
  {
   "cell_type": "code",
   "execution_count": null,
   "id": "b792c3c1",
   "metadata": {},
   "outputs": [],
   "source": []
  },
  {
   "cell_type": "code",
   "execution_count": null,
   "id": "a9d8a5d1",
   "metadata": {},
   "outputs": [],
   "source": []
  },
  {
   "cell_type": "code",
   "execution_count": null,
   "id": "dd3ad83b",
   "metadata": {},
   "outputs": [],
   "source": []
  },
  {
   "cell_type": "code",
   "execution_count": null,
   "id": "5a7abaef",
   "metadata": {},
   "outputs": [],
   "source": []
  },
  {
   "cell_type": "code",
   "execution_count": 15,
   "id": "ca8cb3a7",
   "metadata": {
    "scrolled": true
   },
   "outputs": [
    {
     "name": "stdout",
     "output_type": "stream",
     "text": [
      "\n",
      "Summary for Area:\n",
      "Count: 333\n",
      "NaN%: 0.00%\n",
      "Frequency:\n",
      "                      Value  Frequency\n",
      "                Great Basin         33\n",
      "                 Everglades         25\n",
      "           Petrified Forest         24\n",
      "                Canyonlands         21\n",
      "                 Lake Clark         17\n",
      "                    Glacier         17\n",
      "                   Big Bend         16\n",
      "              Mount Rainier         16\n",
      "               Kings Canyon         16\n",
      "                     Acadia         12\n",
      "                Grand Teton         12\n",
      "           Carlsbad Caverns         11\n",
      "                Hot Springs         11\n",
      "        Guadalupe Mountains         10\n",
      "      Great Smoky Mountains         10\n",
      "                     Denali         10\n",
      "               Grand Canyon          9\n",
      "                   Badlands          9\n",
      "             North Cascades          8\n",
      "                    Sequoia          8\n",
      "                     Arches          7\n",
      "                Joshua Tree          6\n",
      "           Great Sand Dunes          5\n",
      "               Dry Tortugas          3\n",
      "                Crater Lake          3\n",
      "                    Redwood          3\n",
      "                Yellowstone          3\n",
      "                   Yosemite          3\n",
      "               Mammoth Cave          2\n",
      "                    Olympic          2\n",
      "             Rocky Mountain          1\n",
      "\n",
      "Summary for Fluid System:\n",
      "Count: 322\n",
      "NaN%: 3.30%\n",
      "Frequency:\n",
      "         Value  Frequency\n",
      "      Campbell        189\n",
      "      Williams        108\n",
      "         Young         25\n",
      "\n",
      "Summary for Development Strategy:\n",
      "Count: 333\n",
      "NaN%: 0.00%\n",
      "Frequency:\n",
      "             Value  Frequency\n",
      "      Orange Crush        127\n",
      "              Coke        116\n",
      "      Mountain Dew         78\n",
      "        Pibb Extra          6\n",
      "            Sprite          4\n",
      "         Dr Pepper          1\n",
      "             Pepsi          1\n",
      "\n",
      "Summary for CODEV_POSITION:\n",
      "Count: 333\n",
      "NaN%: 0.00%\n",
      "Frequency:\n",
      "       Value  Frequency\n",
      "        Edge        213\n",
      "      Middle        120\n",
      "\n",
      "Summary for CODEV_FORMATION_POSITION:\n",
      "Count: 333\n",
      "NaN%: 0.00%\n",
      "Frequency:\n",
      "       Value  Frequency\n",
      "        Edge        246\n",
      "      Middle         87\n"
     ]
    }
   ],
   "source": [
    "# Calculate the percentage of NaN values for each column\n",
    "nan_percentage = my_data.isna().mean() * 100\n",
    "\n",
    "# For categorical data, calculate the frequency of each category\n",
    "categorical_columns = my_data.select_dtypes(include=['object', 'category']).columns\n",
    "categorical_summary = {}\n",
    "\n",
    "# Indent size: change this value to adjust the indentation\n",
    "indent_size = 6\n",
    "\n",
    "# Iterate over categorical columns and calculate the overall count, NaN% and frequency data\n",
    "for col in categorical_columns:\n",
    "    count = my_data[col].notna().sum()  # Count of non-NaN entries\n",
    "    nan_pct = nan_percentage[col]       # NaN percentage\n",
    "    freq_series = my_data[col].value_counts().reset_index()  # Frequency counts for non-NaN values\n",
    "    freq_series.columns = ['Value', 'Frequency']\n",
    "    # Apply consistent indentation to the frequency data\n",
    "    freq_series['Value'] = freq_series['Value'].apply(lambda x: f\"{' ':<{indent_size}}{x}\")\n",
    "    categorical_summary[col] = {\n",
    "        'count': count,\n",
    "        'NaN%': nan_pct,\n",
    "        'frequency': freq_series\n",
    "    }\n",
    "\n",
    "# Display the summary for each categorical column\n",
    "for col, summary in categorical_summary.items():\n",
    "    print(f\"\\nSummary for {col}:\")\n",
    "    print(f\"Count: {summary['count']}\")\n",
    "    print(f\"NaN%: {summary['NaN%']:.2f}%\")\n",
    "    print(\"Frequency:\")\n",
    "    print(summary['frequency'].to_string(index=False))"
   ]
  },
  {
   "cell_type": "markdown",
   "id": "de17d7c6",
   "metadata": {},
   "source": [
    "Some values may be negative that cannot be negative so we can truncate these, we will leave the values as is for the time being."
   ]
  },
  {
   "cell_type": "code",
   "execution_count": 7,
   "id": "af107aec",
   "metadata": {},
   "outputs": [],
   "source": [
    "#num = my_data._get_numeric_data()                         # get the numerical values\n",
    "#num[num < 0] = 0                                          # truncate negative values to 0.0\n",
    "#my_data.describe().transpose()                            # calculate summary statistics for the data"
   ]
  },
  {
   "cell_type": "markdown",
   "id": "c5940fa4",
   "metadata": {},
   "source": [
    "Plot NaN data for each data set"
   ]
  },
  {
   "cell_type": "code",
   "execution_count": 8,
   "id": "aacda3bd",
   "metadata": {},
   "outputs": [
    {
     "data": {
      "image/png": "[encoded data removed]",
      "text/plain": [
       "<Figure size 1000x600 with 1 Axes>"
      ]
     },
     "metadata": {},
     "output_type": "display_data"
    }
   ],
   "source": [
    "# Plotting the bar chart\n",
    "plt.figure(figsize=(10, 6))\n",
    "nan_percentage.plot(kind='bar')\n",
    "plt.title('Percentage of NaN Values in Each Column')\n",
    "plt.ylabel('Percentage of NaN')\n",
    "plt.xlabel('Columns')\n",
    "plt.xticks(rotation=45, ha='right')\n",
    "plt.tight_layout()"
   ]
  },
  {
   "cell_type": "markdown",
   "id": "89b75a09",
   "metadata": {},
   "source": [
    "#### Anova (Analysis of Varients)\n",
    "\n"
   ]
  },
  {
   "cell_type": "code",
   "execution_count": 18,
   "id": "06a50531",
   "metadata": {},
   "outputs": [
    {
     "ename": "TypeError",
     "evalue": "can only concatenate str (not \"float\") to str",
     "output_type": "error",
     "traceback": [
      "\u001b[1;31m---------------------------------------------------------------------------\u001b[0m",
      "\u001b[1;31mTypeError\u001b[0m                                 Traceback (most recent call last)",
      "\u001b[1;32m~\\AppData\\Local\\Temp\\ipykernel_7520\\892657086.py\u001b[0m in \u001b[0;36m<module>\u001b[1;34m\u001b[0m\n\u001b[1;32m----> 1\u001b[1;33m \u001b[0mcorr_matrix\u001b[0m \u001b[1;33m=\u001b[0m \u001b[0mnp\u001b[0m\u001b[1;33m.\u001b[0m\u001b[0mcorrcoef\u001b[0m\u001b[1;33m(\u001b[0m\u001b[0mmy_data\u001b[0m\u001b[1;33m,\u001b[0m \u001b[0mrowvar\u001b[0m \u001b[1;33m=\u001b[0m \u001b[1;32mFalse\u001b[0m\u001b[1;33m)\u001b[0m\u001b[1;33m\u001b[0m\u001b[1;33m\u001b[0m\u001b[0m\n\u001b[0m\u001b[0;32m      2\u001b[0m \u001b[0mprint\u001b[0m\u001b[1;33m(\u001b[0m\u001b[0mnp\u001b[0m\u001b[1;33m.\u001b[0m\u001b[0maround\u001b[0m\u001b[1;33m(\u001b[0m\u001b[0mcorr_matrix\u001b[0m\u001b[1;33m,\u001b[0m\u001b[1;36m2\u001b[0m\u001b[1;33m)\u001b[0m\u001b[1;33m)\u001b[0m                           \u001b[1;31m# print the correlation matrix to 2 decimals\u001b[0m\u001b[1;33m\u001b[0m\u001b[1;33m\u001b[0m\u001b[0m\n",
      "\u001b[1;32m<__array_function__ internals>\u001b[0m in \u001b[0;36mcorrcoef\u001b[1;34m(*args, **kwargs)\u001b[0m\n",
      "\u001b[1;32m~\\anaconda3\\lib\\site-packages\\numpy\\lib\\function_base.py\u001b[0m in \u001b[0;36mcorrcoef\u001b[1;34m(x, y, rowvar, bias, ddof, dtype)\u001b[0m\n\u001b[0;32m   2681\u001b[0m         warnings.warn('bias and ddof have no effect and are deprecated',\n\u001b[0;32m   2682\u001b[0m                       DeprecationWarning, stacklevel=3)\n\u001b[1;32m-> 2683\u001b[1;33m     \u001b[0mc\u001b[0m \u001b[1;33m=\u001b[0m \u001b[0mcov\u001b[0m\u001b[1;33m(\u001b[0m\u001b[0mx\u001b[0m\u001b[1;33m,\u001b[0m \u001b[0my\u001b[0m\u001b[1;33m,\u001b[0m \u001b[0mrowvar\u001b[0m\u001b[1;33m,\u001b[0m \u001b[0mdtype\u001b[0m\u001b[1;33m=\u001b[0m\u001b[0mdtype\u001b[0m\u001b[1;33m)\u001b[0m\u001b[1;33m\u001b[0m\u001b[1;33m\u001b[0m\u001b[0m\n\u001b[0m\u001b[0;32m   2684\u001b[0m     \u001b[1;32mtry\u001b[0m\u001b[1;33m:\u001b[0m\u001b[1;33m\u001b[0m\u001b[1;33m\u001b[0m\u001b[0m\n\u001b[0;32m   2685\u001b[0m         \u001b[0md\u001b[0m \u001b[1;33m=\u001b[0m \u001b[0mdiag\u001b[0m\u001b[1;33m(\u001b[0m\u001b[0mc\u001b[0m\u001b[1;33m)\u001b[0m\u001b[1;33m\u001b[0m\u001b[1;33m\u001b[0m\u001b[0m\n",
      "\u001b[1;32m<__array_function__ internals>\u001b[0m in \u001b[0;36mcov\u001b[1;34m(*args, **kwargs)\u001b[0m\n",
      "\u001b[1;32m~\\anaconda3\\lib\\site-packages\\numpy\\lib\\function_base.py\u001b[0m in \u001b[0;36mcov\u001b[1;34m(m, y, rowvar, bias, ddof, fweights, aweights, dtype)\u001b[0m\n\u001b[0;32m   2516\u001b[0m             \u001b[0mw\u001b[0m \u001b[1;33m*=\u001b[0m \u001b[0maweights\u001b[0m\u001b[1;33m\u001b[0m\u001b[1;33m\u001b[0m\u001b[0m\n\u001b[0;32m   2517\u001b[0m \u001b[1;33m\u001b[0m\u001b[0m\n\u001b[1;32m-> 2518\u001b[1;33m     \u001b[0mavg\u001b[0m\u001b[1;33m,\u001b[0m \u001b[0mw_sum\u001b[0m \u001b[1;33m=\u001b[0m \u001b[0maverage\u001b[0m\u001b[1;33m(\u001b[0m\u001b[0mX\u001b[0m\u001b[1;33m,\u001b[0m \u001b[0maxis\u001b[0m\u001b[1;33m=\u001b[0m\u001b[1;36m1\u001b[0m\u001b[1;33m,\u001b[0m \u001b[0mweights\u001b[0m\u001b[1;33m=\u001b[0m\u001b[0mw\u001b[0m\u001b[1;33m,\u001b[0m \u001b[0mreturned\u001b[0m\u001b[1;33m=\u001b[0m\u001b[1;32mTrue\u001b[0m\u001b[1;33m)\u001b[0m\u001b[1;33m\u001b[0m\u001b[1;33m\u001b[0m\u001b[0m\n\u001b[0m\u001b[0;32m   2519\u001b[0m     \u001b[0mw_sum\u001b[0m \u001b[1;33m=\u001b[0m \u001b[0mw_sum\u001b[0m\u001b[1;33m[\u001b[0m\u001b[1;36m0\u001b[0m\u001b[1;33m]\u001b[0m\u001b[1;33m\u001b[0m\u001b[1;33m\u001b[0m\u001b[0m\n\u001b[0;32m   2520\u001b[0m \u001b[1;33m\u001b[0m\u001b[0m\n",
      "\u001b[1;32m<__array_function__ internals>\u001b[0m in \u001b[0;36maverage\u001b[1;34m(*args, **kwargs)\u001b[0m\n",
      "\u001b[1;32m~\\anaconda3\\lib\\site-packages\\numpy\\lib\\function_base.py\u001b[0m in \u001b[0;36maverage\u001b[1;34m(a, axis, weights, returned)\u001b[0m\n\u001b[0;32m    378\u001b[0m \u001b[1;33m\u001b[0m\u001b[0m\n\u001b[0;32m    379\u001b[0m     \u001b[1;32mif\u001b[0m \u001b[0mweights\u001b[0m \u001b[1;32mis\u001b[0m \u001b[1;32mNone\u001b[0m\u001b[1;33m:\u001b[0m\u001b[1;33m\u001b[0m\u001b[1;33m\u001b[0m\u001b[0m\n\u001b[1;32m--> 380\u001b[1;33m         \u001b[0mavg\u001b[0m \u001b[1;33m=\u001b[0m \u001b[0ma\u001b[0m\u001b[1;33m.\u001b[0m\u001b[0mmean\u001b[0m\u001b[1;33m(\u001b[0m\u001b[0maxis\u001b[0m\u001b[1;33m)\u001b[0m\u001b[1;33m\u001b[0m\u001b[1;33m\u001b[0m\u001b[0m\n\u001b[0m\u001b[0;32m    381\u001b[0m         \u001b[0mscl\u001b[0m \u001b[1;33m=\u001b[0m \u001b[0mavg\u001b[0m\u001b[1;33m.\u001b[0m\u001b[0mdtype\u001b[0m\u001b[1;33m.\u001b[0m\u001b[0mtype\u001b[0m\u001b[1;33m(\u001b[0m\u001b[0ma\u001b[0m\u001b[1;33m.\u001b[0m\u001b[0msize\u001b[0m\u001b[1;33m/\u001b[0m\u001b[0mavg\u001b[0m\u001b[1;33m.\u001b[0m\u001b[0msize\u001b[0m\u001b[1;33m)\u001b[0m\u001b[1;33m\u001b[0m\u001b[1;33m\u001b[0m\u001b[0m\n\u001b[0;32m    382\u001b[0m     \u001b[1;32melse\u001b[0m\u001b[1;33m:\u001b[0m\u001b[1;33m\u001b[0m\u001b[1;33m\u001b[0m\u001b[0m\n",
      "\u001b[1;32m~\\anaconda3\\lib\\site-packages\\numpy\\core\\_methods.py\u001b[0m in \u001b[0;36m_mean\u001b[1;34m(a, axis, dtype, out, keepdims, where)\u001b[0m\n\u001b[0;32m    177\u001b[0m             \u001b[0mis_float16_result\u001b[0m \u001b[1;33m=\u001b[0m \u001b[1;32mTrue\u001b[0m\u001b[1;33m\u001b[0m\u001b[1;33m\u001b[0m\u001b[0m\n\u001b[0;32m    178\u001b[0m \u001b[1;33m\u001b[0m\u001b[0m\n\u001b[1;32m--> 179\u001b[1;33m     \u001b[0mret\u001b[0m \u001b[1;33m=\u001b[0m \u001b[0mumr_sum\u001b[0m\u001b[1;33m(\u001b[0m\u001b[0marr\u001b[0m\u001b[1;33m,\u001b[0m \u001b[0maxis\u001b[0m\u001b[1;33m,\u001b[0m \u001b[0mdtype\u001b[0m\u001b[1;33m,\u001b[0m \u001b[0mout\u001b[0m\u001b[1;33m,\u001b[0m \u001b[0mkeepdims\u001b[0m\u001b[1;33m,\u001b[0m \u001b[0mwhere\u001b[0m\u001b[1;33m=\u001b[0m\u001b[0mwhere\u001b[0m\u001b[1;33m)\u001b[0m\u001b[1;33m\u001b[0m\u001b[1;33m\u001b[0m\u001b[0m\n\u001b[0m\u001b[0;32m    180\u001b[0m     \u001b[1;32mif\u001b[0m \u001b[0misinstance\u001b[0m\u001b[1;33m(\u001b[0m\u001b[0mret\u001b[0m\u001b[1;33m,\u001b[0m \u001b[0mmu\u001b[0m\u001b[1;33m.\u001b[0m\u001b[0mndarray\u001b[0m\u001b[1;33m)\u001b[0m\u001b[1;33m:\u001b[0m\u001b[1;33m\u001b[0m\u001b[1;33m\u001b[0m\u001b[0m\n\u001b[0;32m    181\u001b[0m         ret = um.true_divide(\n",
      "\u001b[1;31mTypeError\u001b[0m: can only concatenate str (not \"float\") to str"
     ]
    }
   ],
   "source": [
    "corr_matrix = np.corrcoef(my_data, rowvar = False)\n",
    "print(np.around(corr_matrix,2))                           # print the correlation matrix to 2 decimals"
   ]
  },
  {
   "cell_type": "markdown",
   "id": "8c69711a",
   "metadata": {},
   "source": [
    "Note the 1.0 diagonal resulting from the correlation of each variable with themselves.  \n",
    "\n",
    "Let's use our function declared above to make a graphical correlation matrix visualization.  This may inprove our ability to spot features.  It relies on the built in correlation matrix method with Numpy DataFrames and MatPlotLib for plotting."
   ]
  },
  {
   "cell_type": "code",
   "execution_count": null,
   "id": "027a2710",
   "metadata": {},
   "outputs": [],
   "source": [
    "plot_corr(my_data,10)                                      # using our correlation matrix visualization function\n",
    "plt.show()"
   ]
  },
  {
   "cell_type": "markdown",
   "id": "e4bc3c88",
   "metadata": {},
   "source": [
    "This looks good.  There is a mix of correlation magnitudes. Of course, correlation coeffficients are limited to degree of linear correlations.  For more complete information, let's look at the matrix scatter plot from the Pandas package. "
   ]
  },
  {
   "cell_type": "code",
   "execution_count": null,
   "id": "8069da4a",
   "metadata": {},
   "outputs": [],
   "source": [
    "pd_plot.scatter_matrix(my_data, alpha = 0.1,              # pandas matrix scatter plot\n",
    "    figsize=(10, 10),color = 'black', hist_kwds={'color':['grey']})\n",
    "plt.show()"
   ]
  },
  {
   "cell_type": "markdown",
   "id": "d28718f9",
   "metadata": {},
   "source": [
    "Visualize the distribution of each column of data using a histogram"
   ]
  },
  {
   "cell_type": "code",
   "execution_count": null,
   "id": "6d1b7ec5",
   "metadata": {},
   "outputs": [],
   "source": [
    "def plot_histograms(dataframe, bins=5):\n",
    "    \"\"\"\n",
    "    Plots histograms for each column in the given dataframe.\n",
    "    \n",
    "    Args:\n",
    "    dataframe (pd.DataFrame): The dataframe containing the data.\n",
    "    bins (int): Number of bins for the histograms. Default is 5.\n",
    "    \"\"\"\n",
    "    for column in dataframe.columns:\n",
    "        plt.figure()\n",
    "        dataframe[column].hist(bins=bins)\n",
    "        plt.title(f'Histogram of {column}')\n",
    "        plt.xlabel(column)\n",
    "        plt.ylabel('Frequency')\n",
    "        plt.show()\n",
    "\n",
    "# Call the function with your data\n",
    "plot_histograms(my_data, bins=50)  # Change 'bins' to adjust the number of bins"
   ]
  },
  {
   "cell_type": "markdown",
   "id": "a3d8adbf",
   "metadata": {},
   "source": [
    "#### Working with Only Two Predictor Features to Predict One Response Feature - EVERYTHING BELOW HERE IS INCOMPLETE\n",
    "\n",
    "Let's simplify the problem to 2 features, to predict one response feature, Production rate.  We will also reduce the number of wells from 1,000 to 500.  By working with only 2 predictor features, it is very easy to visualize the segmentation of the feature space (it is only 2D and the model can be interogated exhaustively on a single plot).\n",
    "\n",
    "We will demonstrate with:\n",
    "\n",
    "* Porosity and Brittleness\n",
    "\n",
    "to predict:\n",
    "\n",
    "* Production\n",
    "\n",
    "Then you will have a chance to run the workflow again with your own selection for predictor features.\n",
    "\n",
    "To update the predictor features change the code in the box below:\n",
    "\n",
    "```python\n",
    "predictor_features = ['Por','Brittle'] \n",
    "```\n",
    "\n",
    "You can any of these:\n",
    "\n",
    "1. Por\n",
    "2. LogPerm\n",
    "3. AI\n",
    "4. Brittle\n",
    "5. TOC\n",
    "6. VR\n",
    "\n",
    "Note the feature names are caps sensitive."
   ]
  },
  {
   "cell_type": "code",
   "execution_count": null,
   "id": "a7c05663",
   "metadata": {},
   "outputs": [],
   "source": [
    "# Select 2 predictor features here:\n",
    "predictor_features = ['Avg Open Pressure','Avg Close Pressure']           # for the first demonstration run we will use porosity and brittleness\n",
    "\n",
    "response_feature = 'Avg Pump Difference'\n",
    "\n",
    "pindex = np.argwhere(my_data.columns.isin(predictor_features)).ravel()\n",
    "print('Selected predictor features: \\n0: ' + predictor_features[0] + ', index = ' + str(pindex[0]) + '.')\n",
    "print('1: ' + predictor_features[1] + ', index = ' + str(pindex[1]) + '.')\n",
    "rindex = np.argwhere(my_data.columns.isin([response_feature])).ravel()\n",
    "print('\\nSelected response feature: \\n' + response_feature + ', index = ' + str(rindex[0]) + '.')\n",
    "\n",
    "#my_data_cut = my_data.iloc[0:500,:] \n",
    "X = my_data[predictor_features]                # extract the 2 selected response features, 500 samples to a X array\n",
    "y = my_data[[response_feature]]                # extract selected response 500 samples to a response array"
   ]
  },
  {
   "cell_type": "markdown",
   "id": "29b1cff2",
   "metadata": {},
   "source": [
    "Let's check the summary statistics of Predictor Features 1 and 2 and the Response Feature."
   ]
  },
  {
   "cell_type": "code",
   "execution_count": null,
   "id": "4c18152a",
   "metadata": {},
   "outputs": [],
   "source": [
    "X.describe().transpose()                   # calculate summary statistics for the data"
   ]
  },
  {
   "cell_type": "code",
   "execution_count": null,
   "id": "e58fe5df",
   "metadata": {},
   "outputs": [],
   "source": [
    "y.describe().transpose()                   # calculate summary statistics for the data"
   ]
  },
  {
   "cell_type": "markdown",
   "id": "aa11f25a",
   "metadata": {},
   "source": [
    "Now let's withhold 100 samples as testing data and retain the remaining 400 as training data. "
   ]
  },
  {
   "cell_type": "code",
   "execution_count": null,
   "id": "0063431f",
   "metadata": {},
   "outputs": [],
   "source": [
    "X_train, X_test, y_train, y_test = train_test_split(X, y, test_size=0.2, random_state=73073)\n",
    "n_train = len(X_train)\n",
    "n_test = len(X_test)\n",
    "print('Number of training ' + str(n_train) + ', number of test ' + str(n_test))"
   ]
  },
  {
   "cell_type": "markdown",
   "id": "837b67fe",
   "metadata": {},
   "source": [
    "Let's compare the univariate statistics of Predictor Features 1 and 2 and the Response Feature for the training and testing datasets.  \n",
    " \n",
    " * let's check for bias and extrapolation."
   ]
  },
  {
   "cell_type": "code",
   "execution_count": null,
   "id": "f466b19b",
   "metadata": {},
   "outputs": [],
   "source": [
    "X_train.describe().transpose()                   # calculate summary statistics for the data"
   ]
  },
  {
   "cell_type": "code",
   "execution_count": null,
   "id": "0621174d",
   "metadata": {},
   "outputs": [],
   "source": [
    "X_test.describe().transpose()                   # calculate summary statistics for the data"
   ]
  },
  {
   "cell_type": "code",
   "execution_count": null,
   "id": "e0e560a2",
   "metadata": {},
   "outputs": [],
   "source": [
    "y_train.describe().transpose()                   # calculate summary statistics for the data"
   ]
  },
  {
   "cell_type": "code",
   "execution_count": null,
   "id": "e147b73c",
   "metadata": {},
   "outputs": [],
   "source": [
    "y_test.describe().transpose()                   # calculate summary statistics for the data"
   ]
  },
  {
   "cell_type": "markdown",
   "id": "4e262a7d",
   "metadata": {},
   "source": [
    "Now let's plot the training and testing dataset distributions to check coverage and extrapolation."
   ]
  },
  {
   "cell_type": "code",
   "execution_count": null,
   "id": "b05908db",
   "metadata": {},
   "outputs": [],
   "source": [
    "plt.subplot(231)\n",
    "plt.hist(X_train[predictor_features[0]], alpha = 0.2, color = 'red', edgecolor = 'black', bins=20)\n",
    "plt.title(predictor_features[0] + ' Train Dataset'); plt.xlim(fmin[pindex[0]],fmax[pindex[0]])\n",
    "\n",
    "plt.subplot(232)\n",
    "plt.hist(X_train[predictor_features[1]], alpha = 0.2, color = 'red', edgecolor = 'black', bins=20)\n",
    "plt.title(predictor_features[1] + ' Train Dataset'); plt.xlim(fmin[pindex[1]],fmax[pindex[1]])\n",
    "\n",
    "plt.subplot(233)\n",
    "plt.hist(y_train[response_feature], alpha = 0.2, color = 'red', edgecolor = 'black', bins=20)\n",
    "plt.title(response_feature + ' Train Dataset'); plt.xlim(fmin[rindex[0]],fmax[rindex[0]])\n",
    "\n",
    "plt.subplot(234)\n",
    "plt.hist(X_test[predictor_features[0]], alpha = 0.2, color = 'red', edgecolor = 'black', bins=20)\n",
    "plt.title(predictor_features[0] + ' Test Dataset'); plt.xlim(fmin[pindex[0]],fmax[pindex[0]])\n",
    "\n",
    "plt.subplot(235)\n",
    "plt.hist(X_test[predictor_features[1]], alpha = 0.2, color = 'red', edgecolor = 'black', bins=20)\n",
    "plt.title(predictor_features[1] + ' Test Dataset'); plt.xlim(fmin[pindex[1]],fmax[pindex[1]])\n",
    "\n",
    "plt.subplot(236)\n",
    "plt.hist(y_test[response_feature], alpha = 0.2, color = 'red', edgecolor = 'black', bins=20)\n",
    "plt.title(response_feature + ' Test Dataset'); plt.xlim(fmin[rindex[0]],fmax[rindex[0]])\n",
    "\n",
    "plt.subplots_adjust(left=0.0, bottom=0.0, right=2.2, top=1.2, wspace=0.3, hspace=0.3)\n",
    "plt.show()"
   ]
  },
  {
   "cell_type": "markdown",
   "id": "fbe4d816",
   "metadata": {},
   "source": [
    "The distributions are well behaved, we cannot observe obvious gaps nor truncations.  \n",
    "\n",
    "Let's look at a scatter plot of Predictor Feature 1 vs 2 with points colored by Response Feature.  \n",
    "\n",
    "* Let's plot the training and testing datasets to check coverage and extrapolation in the features space."
   ]
  },
  {
   "cell_type": "code",
   "execution_count": null,
   "id": "2e376f0f",
   "metadata": {},
   "outputs": [],
   "source": [
    "plt.subplot(121)\n",
    "im = plt.scatter(X_train[predictor_features[0]],X_train[predictor_features[1]],s=None, c=y_train[response_feature], marker=None, cmap=None, norm=None, vmin=None, vmax=None, alpha=0.8, linewidths=0.3,  edgecolors=\"black\")\n",
    "plt.title('Training Data: ' + response_feature + ' vs. ' + predictor_features[1] + ' and ' + predictor_features[0]); plt.xlabel(predictor_features[0]); plt.ylabel(predictor_features[1])\n",
    "cbar = plt.colorbar(im, orientation = 'vertical',ticks=np.linspace(fmin[rindex[0]],fmax[rindex[0]], 10));\n",
    "plt.xlim(fmin[pindex[0]],fmax[pindex[0]]); plt.ylim(fmin[pindex[1]],fmax[pindex[1]])\n",
    "cbar.set_label(response_feature, rotation=270, labelpad=20)\n",
    "\n",
    "plt.subplot(122)\n",
    "im = plt.scatter(X_test[predictor_features[0]],X_test[predictor_features[1]],s=None, c=y_test[response_feature], marker=None, cmap=None, norm=None, vmin=None, vmax=None, alpha=0.8, linewidths=0.3, edgecolors=\"black\")\n",
    "plt.title('Testing Data: ' + response_feature + ' vs. ' + predictor_features[1] + ' and ' + predictor_features[0]); plt.xlabel(predictor_features[0]); plt.ylabel(predictor_features[1])\n",
    "cbar = plt.colorbar(im, orientation = 'vertical',ticks=np.linspace(fmin[rindex[0]],fmax[rindex[0]], 10)); \n",
    "plt.xlim(fmin[pindex[0]],fmax[pindex[0]]); plt.ylim(fmin[pindex[1]],fmax[pindex[1]])\n",
    "cbar.set_label(response_feature, rotation=270, labelpad=20)\n",
    "\n",
    "plt.subplots_adjust(left=0.0, bottom=0.0, right=2.2, top=1.2, wspace=0.3, hspace=0.2)\n",
    "plt.show()"
   ]
  },
  {
   "cell_type": "markdown",
   "id": "6a7df2be",
   "metadata": {},
   "source": [
    "#### Building a Linear Regression Model\n",
    "\n",
    "Let's build our first machine learning model with scikit learn.  We will start with linear regression.  For this model we will pick one predictor feature and one response feature.  "
   ]
  },
  {
   "cell_type": "code",
   "execution_count": null,
   "id": "71da85a7",
   "metadata": {},
   "outputs": [],
   "source": [
    "# Linear Regression Model with scikit learn\n",
    "from sklearn import linear_model\n",
    "\n",
    "# Step 1. Instantiate the Model \n",
    "univariate_linear_reg = linear_model.LinearRegression()\n",
    "\n",
    "# Step 2: Fit the Data on Training Data\n",
    "univariate_linear_reg.fit(X_train[predictor_features[0]].values.reshape(n_train,1), y_train[response_feature]) # fit model\n",
    "univariate_linear_model = np.linspace(fmin[pindex[0]],fmax[pindex[0]],10)\n",
    "\n",
    "# Print the model parameters\n",
    "response_model = univariate_linear_reg.predict(univariate_linear_model.reshape(10,1)) # predict with the fit model\n",
    "print('Coefficients: ', str(round(univariate_linear_reg.coef_[0],3)) + ', Intercept: ', str(round(univariate_linear_reg.intercept_,3))) \n",
    "\n",
    "# Plot model fit\n",
    "plt.figure(figsize=(8,6))\n",
    "plt.scatter(X_train[predictor_features[0]].values, y_train[response_feature],  color='black', s = 20, alpha = 0.3)\n",
    "plt.plot(univariate_linear_model,response_model, color='red', linewidth=1)\n",
    "plt.title('Linear Regression Production from ' + predictor_features[0] + ' on Training'); plt.xlabel(predictor_features[0]); plt.ylabel('Production (MCFPD)')\n",
    "plt.xlim(fmin[pindex[0]],fmax[pindex[0]]); plt.ylim(fmin[rindex[0]],fmax[rindex[0]])\n"
   ]
  },
  {
   "cell_type": "markdown",
   "id": "1421e5da",
   "metadata": {},
   "source": [
    "We can now check our model performance against the withheld testing data."
   ]
  },
  {
   "cell_type": "code",
   "execution_count": null,
   "id": "9bd5502c",
   "metadata": {},
   "outputs": [],
   "source": [
    "# Step 3: - Make predictions using the testing dataset\n",
    "y_pred = univariate_linear_reg.predict(X_test[predictor_features[0]].values.reshape(n_test,1))\n",
    "\n",
    "# Report the goodness of fit\n",
    "print('Variance explained: %.2f' % r2_score(y_test, y_pred))\n",
    "\n",
    "# Plot testing diagnostics \n",
    "plt.subplot(121)\n",
    "plt.scatter(X_test[predictor_features[0]].values, y_test[response_feature].values,  color='black', s = 20, alpha = 0.3)\n",
    "plt.scatter(X_test[predictor_features[0]], y_pred, color='blue', s = 20, alpha = 0.3)\n",
    "plt.title('Linear Regression Model Testing - ' + response_feature + ' from ' + predictor_features[0]); \n",
    "plt.xlabel(predictor_features[0]); plt.ylabel(response_feature)\n",
    "plt.xlim(fmin[pindex[0]],fmax[pindex[0]]); plt.ylim(fmin[rindex[0]],fmax[rindex[0]])\n",
    "\n",
    "y_res = y_pred - y_test[response_feature].values\n",
    "\n",
    "plt.subplot(122)\n",
    "plt.hist(y_res, alpha = 0.2, color = 'red', edgecolor = 'black', bins=20)\n",
    "plt.title('Linear Regression Model Prediction Error - ' + response_feature + ' from ' + predictor_features[0]); \n",
    "plt.xlabel(response_feature + ' Estimation Error'); plt.ylabel('Frequency')\n",
    "plt.xlim(-1*fmax[rindex[0]],fmax[rindex[0]])\n",
    "\n",
    "plt.subplots_adjust(left=0.0, bottom=0.0, right=2.2, top=1.2, wspace=0.3, hspace=0.2)\n",
    "plt.show()"
   ]
  },
  {
   "cell_type": "markdown",
   "id": "88ef645c",
   "metadata": {},
   "source": [
    "Now let's see how our linear regression model performs with just the second predictor feature."
   ]
  },
  {
   "cell_type": "code",
   "execution_count": null,
   "id": "4beca844",
   "metadata": {},
   "outputs": [],
   "source": [
    "# Step 1. Instantiate the Model \n",
    "univariate_linear_reg2 = linear_model.LinearRegression()\n",
    "\n",
    "# Step 2: Fit the Data on Training Data\n",
    "univariate_linear_reg2.fit(X_train[predictor_features[1]].values.reshape(n_train,1), y_train[response_feature]) # fit model\n",
    "univariate_linear_model2 = np.linspace(fmin[pindex[1]],fmax[pindex[1]],10)\n",
    "\n",
    "# Print the model parameters\n",
    "response_model2 = univariate_linear_reg2.predict(univariate_linear_model2.reshape(10,1)) # predict with the fit model\n",
    "print('Coefficients: ', str(round(univariate_linear_reg.coef_[0],3)) + ', Intercept: ', str(round(univariate_linear_reg.intercept_,3))) \n",
    "\n",
    "# Plot model fit\n",
    "plt.figure(figsize=(8,6))\n",
    "plt.scatter(X_train[predictor_features[1]].values, y_train[response_feature],  color='black', s = 20, alpha = 0.3)\n",
    "plt.plot(univariate_linear_model2,response_model2, color='red', linewidth=1)\n",
    "plt.title('Linear Regression Production from ' + predictor_features[1] + ' on Training'); plt.xlabel(predictor_features[1]); plt.ylabel('Production (MCFPD)')\n",
    "plt.xlim(fmin[pindex[1]],fmax[pindex[1]]); plt.ylim(fmin[rindex[0]],fmax[rindex[0]])"
   ]
  },
  {
   "cell_type": "code",
   "execution_count": null,
   "id": "ffc75f56",
   "metadata": {},
   "outputs": [],
   "source": [
    "# Step 3: - Make predictions using the testing dataset\n",
    "y_pred2 = univariate_linear_reg2.predict(X_test[predictor_features[1]].values.reshape(n_test,1))\n",
    "\n",
    "# Report the goodness of fit\n",
    "print('Variance explained: %.2f' % r2_score(y_test, y_pred2))\n",
    "\n",
    "# Plot testing diagnostics \n",
    "plt.subplot(121)\n",
    "plt.scatter(X_test[predictor_features[1]].values, y_test[response_feature].values,  color='black', s = 20, alpha = 0.3)\n",
    "plt.scatter(X_test[predictor_features[1]], y_pred2, color='blue', s = 20, alpha = 0.3)\n",
    "plt.title('Linear Regression Model Testing - ' + response_feature + ' from ' + predictor_features[1]); \n",
    "plt.xlabel(predictor_features[1]); plt.ylabel(response_feature)\n",
    "plt.xlim(fmin[pindex[1]],fmax[pindex[1]]); plt.ylim(fmin[rindex[0]],fmax[rindex[0]])\n",
    "\n",
    "y_res2 = y_pred2 - y_test[response_feature].values\n",
    "\n",
    "plt.subplot(122)\n",
    "plt.hist(y_res2, alpha = 0.2, color = 'red', edgecolor = 'black', bins=20)\n",
    "plt.title('Linear Regression Model Prediction Error - ' + response_feature + ' from ' + predictor_features[1]); \n",
    "plt.xlabel(response_feature + ' Estimation Error'); plt.ylabel('Frequency')\n",
    "plt.xlim(-1*fmax[rindex[0]],fmax[rindex[0]])\n",
    "\n",
    "plt.subplots_adjust(left=0.0, bottom=0.0, right=2.2, top=1.2, wspace=0.3, hspace=0.2)\n",
    "plt.show()"
   ]
  },
  {
   "cell_type": "markdown",
   "id": "40028cab",
   "metadata": {},
   "source": [
    "#### Building a Multilinear Regression Model\n",
    "\n",
    "Let's build our second machine learning model with scikit learn.  We will work with multilinear regression!  We will use both predictor features, porosity and brittleness, and one response feature, production.  \n",
    "\n",
    "There are no hyperparameters to tune with regular linear regression.\n",
    "\n",
    "* note: ridge regression and LASSO offer alternatives to linear regression with regularization coefficient, a hyperparameter."
   ]
  },
  {
   "cell_type": "code",
   "execution_count": null,
   "id": "cea5dd8f",
   "metadata": {},
   "outputs": [],
   "source": [
    "# Linear Regression Model with scikit learn\n",
    "from sklearn import linear_model\n",
    "\n",
    "# Step 1. Instantiate the Model \n",
    "multilinear_reg = linear_model.LinearRegression()\n",
    "\n",
    "# Step 2: Fit the Data on Training Data\n",
    "multilinear_reg.fit(X_train.values.reshape(n_train,2), y_train[response_feature]) # fit model\n",
    "\n",
    "# Print the model parameters\n",
    "print(predictor_features[0] + ' Coef: ' + str(round(multilinear_reg.coef_[0],3)) + ', ' + predictor_features[1] + ' Coef: ', str(round(multilinear_reg.coef_[1],3)) + ', Intercept: ', str(round(multilinear_reg.intercept_,3))) \n",
    "\n",
    "# Plot model fit\n",
    "plt.subplot(121)\n",
    "plt = visualize_model(multilinear_reg,X_test[predictor_features[0]],X_test[predictor_features[1]],y_test[response_feature],'Testing Data and Multilinear Regression Model')\n",
    "\n",
    "# Step 3: - Make predictions using the testing dataset\n",
    "multilinear_y_pred = multilinear_reg.predict(X_test.values.reshape(n_test,2))\n",
    "\n",
    "# Report the goodness of fit\n",
    "print('Variance explained: %.2f' % r2_score(y_test, multilinear_y_pred))\n",
    "\n",
    "# Calculate the error at withheld testing samples\n",
    "multilinear_y_res = multilinear_y_pred - y_test[response_feature].values\n",
    "\n",
    "plt.subplot(122)\n",
    "plt.hist(multilinear_y_res, alpha = 0.2, color = 'red', edgecolor = 'black', bins=np.linspace(-1*fmax[rindex[0]],fmax[rindex[0]],40))\n",
    "plt.title('Linear Regression Model Prediction Error - ' + response_feature + ' from ' + predictor_features[0] + ' and ' + predictor_features[1]); \n",
    "plt.xlabel(response_feature + ' Estimation Error '); plt.ylabel('Frequency')\n",
    "plt.xlim(-1*fmax[rindex[0]],fmax[rindex[0]])\n",
    "\n",
    "plt.subplots_adjust(left=0.0, bottom=0.0, right=3.2, top=1.6, wspace=0.1, hspace=0.2)\n",
    "plt.show()\n"
   ]
  },
  {
   "cell_type": "markdown",
   "id": "45b6bbc9",
   "metadata": {},
   "source": [
    "Including brittleness only resulted in a slight improvement.  \n",
    "\n",
    "* due to the nonlinear nature of brittleness\n",
    "\n",
    "#### Building a Decision Tree Regression Model\n",
    "\n",
    "Let's build our third machine learning model with scikit learn.  We will work with a decision tree.  We will use both predictor features, porosity and brittleness, and one response feature, production.\n",
    "\n",
    "The hyperparameters include:\n",
    "\n",
    "* **min_samples_leaf** - the minimum number of data in each region, reduce to increase complexity\n",
    "* **max_depth** - maximum number of layers of decisions, increase to increase complexity\n",
    "* **max_leaf_nodes** - maximum number of regions, increase to increase complexity"
   ]
  },
  {
   "cell_type": "code",
   "execution_count": null,
   "id": "5656d45a",
   "metadata": {},
   "outputs": [],
   "source": [
    "# Decison Tree Model with scikit learn\n",
    "from sklearn import tree                                     # for accessing tree information\n",
    "\n",
    "# Step 1. Instantiate the Model \n",
    "decision_tree_reg = tree.DecisionTreeRegressor(min_samples_leaf=5, max_depth = 3)\n",
    "\n",
    "# Step 2: Fit the Data on Training Data\n",
    "decision_tree_reg.fit(X_train.values.reshape(n_train,2), y_train[response_feature]) # fit model\n",
    "\n",
    "# Plot model fit\n",
    "plt.subplot(121)\n",
    "plt = visualize_model(decision_tree_reg,X_test[predictor_features[0]],X_test[predictor_features[1]],y_test[response_feature],'Testing Data and Decision Tree Model')\n",
    "plt.subplots_adjust(left=0.0, bottom=0.0, right=1.2, top=1.2, wspace=0.3, hspace=0.2)\n",
    "\n",
    "# Step 3: - Make predictions using the testing dataset\n",
    "tree_y_pred = decision_tree_reg.predict(X_test.values.reshape(n_test,2))\n",
    "\n",
    "# Report the goodness of fit\n",
    "print('Variance explained: %.2f' % r2_score(y_test, tree_y_pred))\n",
    "\n",
    "# Calculate the error at withheld testing samples\n",
    "tree_y_res = tree_y_pred - y_test['Production'].values\n",
    "\n",
    "plt.subplot(122)\n",
    "plt.hist(tree_y_res, alpha = 0.2, color = 'red', edgecolor = 'black', bins=np.linspace(-1*fmax[rindex[0]],fmax[rindex[0]],40))\n",
    "plt.title('Decision Tree Model Prediction Error - ' + response_feature + ' from ' + predictor_features[0] + ' and ' + predictor_features[1]); \n",
    "plt.xlabel(response_feature + ' Estimation Error '); plt.ylabel('Frequency')\n",
    "plt.xlim(-1*fmax[rindex[0]],fmax[rindex[0]])\n",
    "\n",
    "plt.subplots_adjust(left=0.0, bottom=0.0, right=3.2, top=1.6, wspace=0.1, hspace=0.2)\n",
    "plt.show()"
   ]
  },
  {
   "cell_type": "markdown",
   "id": "769e5e0b",
   "metadata": {},
   "source": [
    "#### Building a Support Vector Machine Regression Model\n",
    "\n",
    "Let's build our fourth machine learning model with scikit learn.  We will work with a support vector machine!  We will use both predictor features, porosity and brittleness, and one response feature, production.  \n",
    "\n",
    "The hyperparameters include:\n",
    "\n",
    "* **kernel** - try linear, poly and rbf (radial basis function), for poly increase degree to increase complexity\n",
    "* **C** - cost (inverse of margin width) - increase to increase complexity"
   ]
  },
  {
   "cell_type": "code",
   "execution_count": null,
   "id": "6f223a3f",
   "metadata": {},
   "outputs": [],
   "source": [
    "# Support Vector Regression Model with scikit learn\n",
    "from sklearn import linear_model\n",
    "\n",
    "# Step 1. Instantiate the Model \n",
    "support_vector_reg = svm.SVR(kernel='poly', C=0.010, gamma='auto', degree=2, epsilon=.01,coef0=1,max_iter=1000)\n",
    "\n",
    "# Step 2: Fit the Data on Training Data\n",
    "support_vector_reg.fit(X_train.values.reshape(n_train,2), y_train[response_feature]) # fit model\n",
    "\n",
    "# Plot model fit\n",
    "plt.subplot(121)\n",
    "plt = visualize_model(support_vector_reg,X_test[predictor_features[0]],X_test[predictor_features[1]],y_test[response_feature],'Testing Data and Support Vector Model')\n",
    "\n",
    "# Step 3: - Make predictions using the testing dataset\n",
    "svm_y_pred = support_vector_reg.predict(X_test.values.reshape(n_test,2))\n",
    "\n",
    "# Report the goodness of fit\n",
    "print('Variance explained: %.2f' % r2_score(y_test, svm_y_pred))\n",
    "\n",
    "# Calculate the error at withheld testing samples\n",
    "svm_y_res = svm_y_pred - y_test['Production'].values\n",
    "\n",
    "plt.subplot(122)\n",
    "plt.hist(svm_y_res, alpha = 0.2, color = 'red', edgecolor = 'black', bins=np.linspace(-1*fmax[rindex[0]],fmax[rindex[0]],40))\n",
    "plt.title('Support Vector Machine Model Prediction Error - ' + response_feature + ' from ' + predictor_features[0] + ' and ' + predictor_features[1]); \n",
    "plt.xlabel(response_feature + ' Estimation Error '); plt.ylabel('Frequency')\n",
    "plt.xlim(-1*fmax[rindex[0]],fmax[rindex[0]])\n",
    "\n",
    "plt.subplots_adjust(left=0.0, bottom=0.0, right=3.2, top=1.6, wspace=0.1, hspace=0.2)\n",
    "plt.show()"
   ]
  },
  {
   "cell_type": "markdown",
   "id": "120b451f",
   "metadata": {},
   "source": [
    "Let's put all our models together for one visualization of our:\n",
    "\n",
    "* models with the withheld testing data\n",
    "\n",
    "* error at withheld testing data samples distribution"
   ]
  },
  {
   "cell_type": "code",
   "execution_count": null,
   "id": "6afb2b60",
   "metadata": {},
   "outputs": [],
   "source": [
    "plt.subplot(231)\n",
    "plt = visualize_model(multilinear_reg,X_test[predictor_features[0]],X_test[predictor_features[1]],y_test[response_feature],'Training Data and Multilinear Regression Model')\n",
    "\n",
    "plt.subplot(234)\n",
    "plt.hist(multilinear_y_res, alpha = 0.2, color = 'red', edgecolor = 'black', bins=np.linspace(-1*fmax[rindex[0]],fmax[rindex[0]],40))\n",
    "plt.title('Linear Regression Model Prediction Error - ' + response_feature + ' from ' + predictor_features[0] + ' and ' + predictor_features[1]); \n",
    "plt.xlabel(response_feature + ' Estimation Error '); plt.ylabel('Frequency')\n",
    "plt.xlim(-1*fmax[rindex[0]],fmax[rindex[0]])\n",
    "\n",
    "plt.subplot(232)\n",
    "plt = visualize_model(decision_tree_reg,X_test[predictor_features[0]],X_test[predictor_features[1]],y_test[response_feature],'Training Data and Decision Tree Model')\n",
    "\n",
    "plt.subplot(235)\n",
    "plt.hist(tree_y_res, alpha = 0.2, color = 'red', edgecolor = 'black', bins=np.linspace(-1*fmax[rindex[0]],fmax[rindex[0]],40))\n",
    "plt.title('Decision Tree Model Prediction Error - ' + response_feature + ' from ' + predictor_features[0] + ' and ' + predictor_features[1]); \n",
    "plt.xlabel(response_feature + ' Estimation Error '); plt.ylabel('Frequency')\n",
    "plt.xlim(-1*fmax[rindex[0]],fmax[rindex[0]])\n",
    "\n",
    "plt.subplot(233)\n",
    "plt = visualize_model(support_vector_reg,X_test[predictor_features[0]],X_test[predictor_features[1]],y_test[response_feature],'Training Data and Support Vector Model')\n",
    "\n",
    "plt.subplot(236)\n",
    "plt.hist(svm_y_res, alpha = 0.2, color = 'red', edgecolor = 'black', bins=np.linspace(-1*fmax[rindex[0]],fmax[rindex[0]],40))\n",
    "plt.title('Support Vector Machine Model Prediction Error - ' + response_feature + ' from ' + predictor_features[0] + ' and ' + predictor_features[1]); \n",
    "plt.xlabel(response_feature + ' Estimation Error '); plt.ylabel('Frequency')\n",
    "plt.xlim(-1*fmax[rindex[0]],fmax[rindex[0]])\n",
    "\n",
    "plt.subplots_adjust(left=0.0, bottom=0.0, right=3.2, top=2.6, wspace=0.1, hspace=0.2)\n",
    "plt.show()"
   ]
  },
  {
   "cell_type": "markdown",
   "id": "24034d97",
   "metadata": {},
   "source": [
    "I'll end here for brevity, but I invite you to continue. There are many other scikit learn methods to explore and there are further opportunities for model cross validation and hyperparameter tuning.  \n",
    "\n",
    "* return to the beginning and select a different pair of predictor features and try again"
   ]
  },
  {
   "cell_type": "code",
   "execution_count": null,
   "id": "411e2323",
   "metadata": {},
   "outputs": [],
   "source": [
    "import pandas as pd\n",
    "import matplotlib.pyplot as plt\n",
    "import seaborn as sns\n",
    "from sklearn.impute import SimpleImputer"
   ]
  },
  {
   "cell_type": "code",
   "execution_count": null,
   "id": "9eb9e480",
   "metadata": {},
   "outputs": [],
   "source": [
    "# Replace 'your_data.csv' with the path to your dataset\n",
    "file_path = 'Cleaned_HackathonData2024.csv'\n",
    "data = pd.read_csv(file_path)"
   ]
  },
  {
   "cell_type": "code",
   "execution_count": null,
   "id": "e2f677ee",
   "metadata": {},
   "outputs": [],
   "source": [
    "# Separating numeric and non-numeric columns\n",
    "numeric_data = data.select_dtypes(include=['float64', 'int64'])\n",
    "non_numeric_data = data.select_dtypes(exclude=['float64', 'int64'])\n",
    "\n",
    "# Imputers for different types of data\n",
    "numeric_imputer = SimpleImputer(strategy='mean')\n",
    "non_numeric_imputer = SimpleImputer(strategy='most_frequent')\n",
    "\n",
    "# Imputation\n",
    "numeric_data_imputed = pd.DataFrame(numeric_imputer.fit_transform(numeric_data), columns=numeric_data.columns)\n",
    "non_numeric_data_imputed = pd.DataFrame(non_numeric_imputer.fit_transform(non_numeric_data), columns=non_numeric_data.columns)\n",
    "\n",
    "# Combine the data back\n",
    "data_imputed_combined = pd.concat([numeric_data_imputed, non_numeric_data_imputed], axis=1)"
   ]
  },
  {
   "cell_type": "code",
   "execution_count": null,
   "id": "0b32baa7",
   "metadata": {},
   "outputs": [],
   "source": [
    "# Basic statistical analysis on the imputed numeric data\n",
    "statistical_analysis_numeric = numeric_data_imputed.describe()\n",
    "statistical_analysis_numeric"
   ]
  },
  {
   "cell_type": "code",
   "execution_count": null,
   "id": "eaf5d386",
   "metadata": {},
   "outputs": [],
   "source": [
    "# Visualization of the completeness of the dataset before and after imputation\n",
    "plt.figure(figsize=(12, 6))\n",
    "\n",
    "# Before imputation\n",
    "plt.subplot(1, 2, 1)\n",
    "sns.heatmap(data.isna(), cbar=False)\n",
    "plt.title('Before Imputation')\n",
    "plt.xlabel('Columns')\n",
    "plt.ylabel('Index')\n",
    "\n",
    "# After imputation\n",
    "plt.subplot(1, 2, 2)\n",
    "sns.heatmap(data_imputed_combined.isna(), cbar=False)\n",
    "plt.title('After Imputation')\n",
    "plt.xlabel('Columns')\n",
    "plt.ylabel('Index')\n",
    "\n",
    "plt.tight_layout()\n",
    "plt.show()"
   ]
  },
  {
   "cell_type": "code",
   "execution_count": null,
   "id": "b2553d9d",
   "metadata": {},
   "outputs": [],
   "source": [
    "# Scikit-Learn Demonstration\n",
    "\n",
    "Demonstration of scikit learn for machine learning.\n",
    "\n",
    "In this workflow we demonstrate the plug and play nature of scikit learn machine learning models.  \n",
    "\n",
    "For an unconventional dataset we demonstrate the following steps:\n",
    "    \n",
    "    1. instantiation\n",
    "    2. fitting\n",
    "    3. prediction\n",
    "    4. cross validation\n",
    "    \n",
    "We will work with the following regression methods:\n",
    "\n",
    "* linear regression\n",
    "* multilinear regression\n",
    "* decision tree regression\n",
    "* support vector machine regression\n",
    "\n",
    "We will demonstrate together a model and then you will pick any 2 predictor features and build your own model.\n",
    "\n",
    "* try some new hyperparameters and observe the model performance\n",
    "\n",
    "We will also need some standard packages.\n",
    "\n",
    "import os                                                 # to set current working directory \n",
    "import math                                               # basic calculations like square root\n",
    "from sklearn.model_selection import train_test_split      # train and test split\n",
    "from sklearn import svm                                   # support vector machine methods\n",
    "from sklearn import tree                                  # tree program from scikit learn (package for machine learning)\n",
    "from sklearn.metrics import mean_squared_error, r2_score  # specific measures to check our models\n",
    "from sklearn.impute import SimpleImputer\n",
    "import pandas as pd                                       # DataFrames and plotting\n",
    "import pandas.plotting as pd_plot\n",
    "import numpy as np                                        # arrays and matrix math\n",
    "import matplotlib.pyplot as plt                           # plotting\n",
    "from intake import cat                                    # data catalogue\n",
    "\n",
    "#### Declare functions\n",
    "\n",
    "Let's define a couple of functions to streamline plotting correlation matrices and visualization of a machine learning regression model responce over the 2 predictor features. \n",
    "\n",
    "def plot_corr(dataframe,size=10):                         # plots a graphical correlation matrix \n",
    "    corr = dataframe.corr()\n",
    "    fig, ax = plt.subplots(figsize=(size, size))\n",
    "    im = ax.matshow(corr,vmin = -1.0, vmax = 1.0)\n",
    "    plt.xticks(range(len(corr.columns)), corr.columns);\n",
    "    plt.yticks(range(len(corr.columns)), corr.columns);\n",
    "    plt.colorbar(im, orientation = 'vertical')\n",
    "    plt.title('Correlation Matrix')\n",
    "    \n",
    "def visualize_model(model,xfeature,yfeature,response,title,):# plots the data points and the decision tree prediction \n",
    "    n_classes = 10\n",
    "    cmap = plt.cm.RdYlBu\n",
    "    plot_step = 0.02\n",
    "    x_min, x_max = min(xfeature) - 1, max(xfeature) + 1\n",
    "    y_min, y_max = min(yfeature) - 1, max(yfeature) + 1\n",
    "    resp_min = round(min(response)); resp_max = round(max(response));\n",
    "    xx, yy = np.meshgrid(np.arange(x_min, x_max, plot_step),\n",
    "                     np.arange(y_min, y_max, plot_step))\n",
    "    z_min = round(min(response)); z_max = round(max(response))\n",
    "    Z = model.predict(np.c_[xx.ravel(), yy.ravel()])\n",
    "    Z = Z.reshape(xx.shape)\n",
    "    cs = plt.contourf(xx, yy, Z, cmap=cmap,vmin=z_min, vmax=z_max)\n",
    "\n",
    "    im = plt.scatter(xfeature,yfeature,s=None, c=response, marker=None, cmap=cmap, norm=None, vmin=z_min, vmax=z_max, alpha=0.8, linewidths=0.3, edgecolors=\"black\")\n",
    "    plt.title(title)\n",
    "    plt.xlabel(xfeature.name)\n",
    "    plt.ylabel(yfeature.name)\n",
    "    cbar = plt.colorbar(im, orientation = 'vertical')\n",
    "    cbar.set_label(response.name, rotation=270, labelpad=20)\n",
    "    return(plt)\n",
    "\n",
    "\n",
    "#### Read the data table\n",
    "\n",
    "my_data = pd.read_csv(\"Numerical_HackathonData2024.csv\")\n",
    "\n",
    "Let's visualize the first several rows of our data stored in a DataFrame so we can make sure we successfully loaded the data file.\n",
    "\n",
    "my_data.head()                                            # preview the first 5 rows of the dataframe\n",
    "\n",
    "Let's remove the well index and check the summary summary statistics.\n",
    "\n",
    "my_data = my_data.iloc[:,1:33]                             # copy all rows and columns 1 through 8, note 0 column is removed\n",
    "my_data.describe().transpose()                            # calculate summary statistics for the data\n",
    "\n",
    "It is good that we checked the summary statistics, because we have some negative values for brittleness and total organic carbon. The is physically imposible.  The values must be in error. We know the lowest possible values are 0.0, so we will truncate on 0.0.  We use the *get_numerical_data()* DataFrame member function to get a shallow copy of the data from the DataFrame.  Since it is a shallow copy, any changes we make to the copy are made to the data in the original DataFrame.  This allows us to apply this simple conditional statement to all the data values in the DataFrame all at once.\n",
    "\n",
    "#num = my_data._get_numeric_data()                         # get the numerical values\n",
    "#num[num < 0] = 0                                          # truncate negative values to 0.0\n",
    "#my_data.describe().transpose()                            # calculate summary statistics for the data\n",
    "\n",
    "Let's assign min and max values for visualization\n",
    "\n",
    "fmin = [-15,2200,7250,0,250,125,140]\n",
    "fmax = [125,18500,11000,10,3000,3000,3000]\n",
    "\n",
    "This dataset has variables from 1,000 unconventional wells including well average porosity, log transform of permeability (to linearize the relationships with other variables), accoustic impedance (kg/m2s*10^6), brittness ratio (%), total organic carbon (%), vitrinite reflectance (%), and initial production 90 day average (MCFPD).  Note, the dataset is synthetic.\n",
    "\n",
    "#### Calculate the correlation matrix \n",
    "\n",
    "For multivariate analysis it is a good idea to check the correlation matrix.  We can calculate it and view it in the console with these commands.\n",
    "\n",
    "imputer = SimpleImputer(strategy='mean')  # or another appropriate strategy\n",
    "my_data_imputed = pd.DataFrame(imputer.fit_transform(my_data), columns=my_data.columns)\n",
    "\n",
    "corr_matrix = np.corrcoef(my_data_imputed, rowvar = False)\n",
    "print(np.around(corr_matrix,2))                           # print the correlation matrix to 2 decimals\n",
    "\n",
    "Note the 1.0 diagonal resulting from the correlation of each variable with themselves.  \n",
    "\n",
    "Let's use our function declared above to make a graphical correlation matrix visualization.  This may inprove our ability to spot features.  It relies on the built in correlation matrix method with Numpy DataFrames and MatPlotLib for plotting.\n",
    "\n",
    "plot_corr(my_data,10)                                      # using our correlation matrix visualization function\n",
    "plt.show()\n",
    "\n",
    "This looks good.  There is a mix of correlation magnitudes. Of course, correlation coeffficients are limited to degree of linear correlations.  For more complete information, let's look at the matrix scatter plot from the Pandas package. \n",
    "\n",
    "pd_plot.scatter_matrix(my_data, alpha = 0.1,              # pandas matrix scatter plot\n",
    "    figsize=(10, 10),color = 'black', hist_kwds={'color':['grey']})\n",
    "plt.show()\n",
    "\n",
    "\n",
    "\n",
    "#### Working with Only Two Predictor Features to Predict One Response Feature\n",
    "\n",
    "Let's simplify the problem to 2 features, to predict one response feature, Production rate.  We will also reduce the number of wells from 1,000 to 500.  By working with only 2 predictor features, it is very easy to visualize the segmentation of the feature space (it is only 2D and the model can be interogated exhaustively on a single plot).\n",
    "\n",
    "We will demonstrate with:\n",
    "\n",
    "* Porosity and Brittleness\n",
    "\n",
    "to predict:\n",
    "\n",
    "* Production\n",
    "\n",
    "Then you will have a chance to run the workflow again with your own selection for predictor features.\n",
    "\n",
    "To update the predictor features change the code in the box below:\n",
    "\n",
    "```python\n",
    "predictor_features = ['Por','Brittle'] \n",
    "```\n",
    "\n",
    "You can any of these:\n",
    "\n",
    "1. Por\n",
    "2. LogPerm\n",
    "3. AI\n",
    "4. Brittle\n",
    "5. TOC\n",
    "6. VR\n",
    "\n",
    "Note the feature names are caps sensitive.\n",
    "\n",
    "# Select 2 predictor features here:\n",
    "predictor_features = ['Por','Brittle']           # for the first demonstration run we will use porosity and brittleness\n",
    "#\n",
    "\n",
    "response_feature = 'Production'\n",
    "\n",
    "pindex = np.argwhere(my_data.columns.isin(predictor_features)).ravel()\n",
    "print('Selected predictor features: \\n0: ' + predictor_features[0] + ', index = ' + str(pindex[0]) + '.')\n",
    "print('1: ' + predictor_features[1] + ', index = ' + str(pindex[1]) + '.')\n",
    "rindex = np.argwhere(my_data.columns.isin([response_feature])).ravel()\n",
    "print('\\nSelected response feature: \\n' + response_feature + ', index = ' + str(rindex[0]) + '.')\n",
    "\n",
    "#my_data_cut = my_data.iloc[0:500,:] \n",
    "X = my_data[predictor_features]                # extract the 2 selected response features, 500 samples to a X array\n",
    "y = my_data[[response_feature]]                # extract selected response 500 samples to a response array\n",
    "\n",
    "Let's check the summary statistics of Predictor Features 1 and 2 and the Response Feature.\n",
    "\n",
    "X.describe().transpose()                   # calculate summary statistics for the data\n",
    "\n",
    "y.describe().transpose()                   # calculate summary statistics for the data\n",
    "\n",
    "Now let's withhold 100 samples as testing data and retain the remaining 400 as training data. \n",
    "\n",
    "X_train, X_test, y_train, y_test = train_test_split(X, y, test_size=0.2, random_state=73073)\n",
    "n_train = len(X_train)\n",
    "n_test = len(X_test)\n",
    "print('Number of training ' + str(n_train) + ', number of test ' + str(n_test))\n",
    "\n",
    "Let's compare the univariate statistics of Predictor Features 1 and 2 and the Response Feature for the training and testing datasets.  \n",
    " \n",
    " * let's check for bias and extrapolation.\n",
    "\n",
    "X_train.describe().transpose()                   # calculate summary statistics for the data\n",
    "\n",
    "X_test.describe().transpose()                   # calculate summary statistics for the data\n",
    "\n",
    "y_train.describe().transpose()                   # calculate summary statistics for the data\n",
    "\n",
    "y_test.describe().transpose()                   # calculate summary statistics for the data\n",
    "\n",
    "Now let's plot the training and testing dataset distributions to check coverage and extrapolation.\n",
    "\n",
    "plt.subplot(231)\n",
    "plt.hist(X_train[predictor_features[0]], alpha = 0.2, color = 'red', edgecolor = 'black', bins=20)\n",
    "plt.title(predictor_features[0] + ' Train Dataset'); plt.xlim(fmin[pindex[0]],fmax[pindex[0]])\n",
    "\n",
    "plt.subplot(232)\n",
    "plt.hist(X_train[predictor_features[1]], alpha = 0.2, color = 'red', edgecolor = 'black', bins=20)\n",
    "plt.title(predictor_features[1] + ' Train Dataset'); plt.xlim(fmin[pindex[1]],fmax[pindex[1]])\n",
    "\n",
    "plt.subplot(233)\n",
    "plt.hist(y_train[response_feature], alpha = 0.2, color = 'red', edgecolor = 'black', bins=20)\n",
    "plt.title(response_feature + ' Train Dataset'); plt.xlim(fmin[rindex[0]],fmax[rindex[0]])\n",
    "\n",
    "plt.subplot(234)\n",
    "plt.hist(X_test[predictor_features[0]], alpha = 0.2, color = 'red', edgecolor = 'black', bins=20)\n",
    "plt.title(predictor_features[0] + ' Test Dataset'); plt.xlim(fmin[pindex[0]],fmax[pindex[0]])\n",
    "\n",
    "plt.subplot(235)\n",
    "plt.hist(X_test[predictor_features[1]], alpha = 0.2, color = 'red', edgecolor = 'black', bins=20)\n",
    "plt.title(predictor_features[1] + ' Test Dataset'); plt.xlim(fmin[pindex[1]],fmax[pindex[1]])\n",
    "\n",
    "plt.subplot(236)\n",
    "plt.hist(y_test[response_feature], alpha = 0.2, color = 'red', edgecolor = 'black', bins=20)\n",
    "plt.title(response_feature + ' Test Dataset'); plt.xlim(fmin[rindex[0]],fmax[rindex[0]])\n",
    "\n",
    "plt.subplots_adjust(left=0.0, bottom=0.0, right=2.2, top=1.2, wspace=0.3, hspace=0.3)\n",
    "plt.show()\n",
    "\n",
    "The distributions are well behaved, we cannot observe obvious gaps nor truncations.  \n",
    "\n",
    "Let's look at a scatter plot of Predictor Feature 1 vs 2 with points colored by Response Feature.  \n",
    "\n",
    "* Let's plot the training and testing datasets to check coverage and extrapolation in the features space.\n",
    "\n",
    "plt.subplot(121)\n",
    "im = plt.scatter(X_train[predictor_features[0]],X_train[predictor_features[1]],s=None, c=y_train[response_feature], marker=None, cmap=None, norm=None, vmin=None, vmax=None, alpha=0.8, linewidths=0.3,  edgecolors=\"black\")\n",
    "plt.title('Training Data: ' + response_feature + ' vs. ' + predictor_features[1] + ' and ' + predictor_features[0]); plt.xlabel(predictor_features[0]); plt.ylabel(predictor_features[1])\n",
    "cbar = plt.colorbar(im, orientation = 'vertical',ticks=np.linspace(fmin[rindex[0]],fmax[rindex[0]], 10));\n",
    "plt.xlim(fmin[pindex[0]],fmax[pindex[0]]); plt.ylim(fmin[pindex[1]],fmax[pindex[1]])\n",
    "cbar.set_label(response_feature, rotation=270, labelpad=20)\n",
    "\n",
    "plt.subplot(122)\n",
    "im = plt.scatter(X_test[predictor_features[0]],X_test[predictor_features[1]],s=None, c=y_test[response_feature], marker=None, cmap=None, norm=None, vmin=None, vmax=None, alpha=0.8, linewidths=0.3, edgecolors=\"black\")\n",
    "plt.title('Testing Data: ' + response_feature + ' vs. ' + predictor_features[1] + ' and ' + predictor_features[0]); plt.xlabel(predictor_features[0]); plt.ylabel(predictor_features[1])\n",
    "cbar = plt.colorbar(im, orientation = 'vertical',ticks=np.linspace(fmin[rindex[0]],fmax[rindex[0]], 10)); \n",
    "plt.xlim(fmin[pindex[0]],fmax[pindex[0]]); plt.ylim(fmin[pindex[1]],fmax[pindex[1]])\n",
    "cbar.set_label(response_feature, rotation=270, labelpad=20)\n",
    "\n",
    "plt.subplots_adjust(left=0.0, bottom=0.0, right=2.2, top=1.2, wspace=0.3, hspace=0.2)\n",
    "plt.show()\n",
    "\n",
    "#### Building a Linear Regression Model\n",
    "\n",
    "Let's build our first machine learning model with scikit learn.  We will start with linear regression.  For this model we will pick one predictor feature and one response feature.  \n",
    "\n",
    "# Linear Regression Model with scikit learn\n",
    "from sklearn import linear_model\n",
    "\n",
    "# Step 1. Instantiate the Model \n",
    "univariate_linear_reg = linear_model.LinearRegression()\n",
    "\n",
    "# Step 2: Fit the Data on Training Data\n",
    "univariate_linear_reg.fit(X_train[predictor_features[0]].values.reshape(n_train,1), y_train[response_feature]) # fit model\n",
    "univariate_linear_model = np.linspace(fmin[pindex[0]],fmax[pindex[0]],10)\n",
    "\n",
    "# Print the model parameters\n",
    "response_model = univariate_linear_reg.predict(univariate_linear_model.reshape(10,1)) # predict with the fit model\n",
    "print('Coefficients: ', str(round(univariate_linear_reg.coef_[0],3)) + ', Intercept: ', str(round(univariate_linear_reg.intercept_,3))) \n",
    "\n",
    "# Plot model fit\n",
    "plt.figure(figsize=(8,6))\n",
    "plt.scatter(X_train[predictor_features[0]].values, y_train[response_feature],  color='black', s = 20, alpha = 0.3)\n",
    "plt.plot(univariate_linear_model,response_model, color='red', linewidth=1)\n",
    "plt.title('Linear Regression Production from ' + predictor_features[0] + ' on Training'); plt.xlabel(predictor_features[0]); plt.ylabel('Production (MCFPD)')\n",
    "plt.xlim(fmin[pindex[0]],fmax[pindex[0]]); plt.ylim(fmin[rindex[0]],fmax[rindex[0]])\n",
    "\n",
    "\n",
    "We can now check our model performance against the withheld testing data.\n",
    "\n",
    "# Step 3: - Make predictions using the testing dataset\n",
    "y_pred = univariate_linear_reg.predict(X_test[predictor_features[0]].values.reshape(n_test,1))\n",
    "\n",
    "# Report the goodness of fit\n",
    "print('Variance explained: %.2f' % r2_score(y_test, y_pred))\n",
    "\n",
    "# Plot testing diagnostics \n",
    "plt.subplot(121)\n",
    "plt.scatter(X_test[predictor_features[0]].values, y_test[response_feature].values,  color='black', s = 20, alpha = 0.3)\n",
    "plt.scatter(X_test[predictor_features[0]], y_pred, color='blue', s = 20, alpha = 0.3)\n",
    "plt.title('Linear Regression Model Testing - ' + response_feature + ' from ' + predictor_features[0]); \n",
    "plt.xlabel(predictor_features[0]); plt.ylabel(response_feature)\n",
    "plt.xlim(fmin[pindex[0]],fmax[pindex[0]]); plt.ylim(fmin[rindex[0]],fmax[rindex[0]])\n",
    "\n",
    "y_res = y_pred - y_test[response_feature].values\n",
    "\n",
    "plt.subplot(122)\n",
    "plt.hist(y_res, alpha = 0.2, color = 'red', edgecolor = 'black', bins=20)\n",
    "plt.title('Linear Regression Model Prediction Error - ' + response_feature + ' from ' + predictor_features[0]); \n",
    "plt.xlabel(response_feature + ' Estimation Error'); plt.ylabel('Frequency')\n",
    "plt.xlim(-1*fmax[rindex[0]],fmax[rindex[0]])\n",
    "\n",
    "plt.subplots_adjust(left=0.0, bottom=0.0, right=2.2, top=1.2, wspace=0.3, hspace=0.2)\n",
    "plt.show()\n",
    "\n",
    "Now let's see how our linear regression model performs with just the second predictor feature.\n",
    "\n",
    "# Step 1. Instantiate the Model \n",
    "univariate_linear_reg2 = linear_model.LinearRegression()\n",
    "\n",
    "# Step 2: Fit the Data on Training Data\n",
    "univariate_linear_reg2.fit(X_train[predictor_features[1]].values.reshape(n_train,1), y_train[response_feature]) # fit model\n",
    "univariate_linear_model2 = np.linspace(fmin[pindex[1]],fmax[pindex[1]],10)\n",
    "\n",
    "# Print the model parameters\n",
    "response_model2 = univariate_linear_reg2.predict(univariate_linear_model2.reshape(10,1)) # predict with the fit model\n",
    "print('Coefficients: ', str(round(univariate_linear_reg.coef_[0],3)) + ', Intercept: ', str(round(univariate_linear_reg.intercept_,3))) \n",
    "\n",
    "# Plot model fit\n",
    "plt.figure(figsize=(8,6))\n",
    "plt.scatter(X_train[predictor_features[1]].values, y_train[response_feature],  color='black', s = 20, alpha = 0.3)\n",
    "plt.plot(univariate_linear_model2,response_model2, color='red', linewidth=1)\n",
    "plt.title('Linear Regression Production from ' + predictor_features[1] + ' on Training'); plt.xlabel(predictor_features[1]); plt.ylabel('Production (MCFPD)')\n",
    "plt.xlim(fmin[pindex[1]],fmax[pindex[1]]); plt.ylim(fmin[rindex[0]],fmax[rindex[0]])\n",
    "\n",
    "# Step 3: - Make predictions using the testing dataset\n",
    "y_pred2 = univariate_linear_reg2.predict(X_test[predictor_features[1]].values.reshape(n_test,1))\n",
    "\n",
    "# Report the goodness of fit\n",
    "print('Variance explained: %.2f' % r2_score(y_test, y_pred2))\n",
    "\n",
    "# Plot testing diagnostics \n",
    "plt.subplot(121)\n",
    "plt.scatter(X_test[predictor_features[1]].values, y_test[response_feature].values,  color='black', s = 20, alpha = 0.3)\n",
    "plt.scatter(X_test[predictor_features[1]], y_pred2, color='blue', s = 20, alpha = 0.3)\n",
    "plt.title('Linear Regression Model Testing - ' + response_feature + ' from ' + predictor_features[1]); \n",
    "plt.xlabel(predictor_features[1]); plt.ylabel(response_feature)\n",
    "plt.xlim(fmin[pindex[1]],fmax[pindex[1]]); plt.ylim(fmin[rindex[0]],fmax[rindex[0]])\n",
    "\n",
    "y_res2 = y_pred2 - y_test[response_feature].values\n",
    "\n",
    "plt.subplot(122)\n",
    "plt.hist(y_res2, alpha = 0.2, color = 'red', edgecolor = 'black', bins=20)\n",
    "plt.title('Linear Regression Model Prediction Error - ' + response_feature + ' from ' + predictor_features[1]); \n",
    "plt.xlabel(response_feature + ' Estimation Error'); plt.ylabel('Frequency')\n",
    "plt.xlim(-1*fmax[rindex[0]],fmax[rindex[0]])\n",
    "\n",
    "plt.subplots_adjust(left=0.0, bottom=0.0, right=2.2, top=1.2, wspace=0.3, hspace=0.2)\n",
    "plt.show()\n",
    "\n",
    "#### Building a Multilinear Regression Model\n",
    "\n",
    "Let's build our second machine learning model with scikit learn.  We will work with multilinear regression!  We will use both predictor features, porosity and brittleness, and one response feature, production.  \n",
    "\n",
    "There are no hyperparameters to tune with regular linear regression.\n",
    "\n",
    "* note: ridge regression and LASSO offer alternatives to linear regression with regularization coefficient, a hyperparameter.\n",
    "\n",
    "# Linear Regression Model with scikit learn\n",
    "from sklearn import linear_model\n",
    "\n",
    "# Step 1. Instantiate the Model \n",
    "multilinear_reg = linear_model.LinearRegression()\n",
    "\n",
    "# Step 2: Fit the Data on Training Data\n",
    "multilinear_reg.fit(X_train.values.reshape(n_train,2), y_train[response_feature]) # fit model\n",
    "\n",
    "# Print the model parameters\n",
    "print(predictor_features[0] + ' Coef: ' + str(round(multilinear_reg.coef_[0],3)) + ', ' + predictor_features[1] + ' Coef: ', str(round(multilinear_reg.coef_[1],3)) + ', Intercept: ', str(round(multilinear_reg.intercept_,3))) \n",
    "\n",
    "# Plot model fit\n",
    "plt.subplot(121)\n",
    "plt = visualize_model(multilinear_reg,X_test[predictor_features[0]],X_test[predictor_features[1]],y_test[response_feature],'Testing Data and Multilinear Regression Model')\n",
    "\n",
    "# Step 3: - Make predictions using the testing dataset\n",
    "multilinear_y_pred = multilinear_reg.predict(X_test.values.reshape(n_test,2))\n",
    "\n",
    "# Report the goodness of fit\n",
    "print('Variance explained: %.2f' % r2_score(y_test, multilinear_y_pred))\n",
    "\n",
    "# Calculate the error at withheld testing samples\n",
    "multilinear_y_res = multilinear_y_pred - y_test[response_feature].values\n",
    "\n",
    "plt.subplot(122)\n",
    "plt.hist(multilinear_y_res, alpha = 0.2, color = 'red', edgecolor = 'black', bins=np.linspace(-1*fmax[rindex[0]],fmax[rindex[0]],40))\n",
    "plt.title('Linear Regression Model Prediction Error - ' + response_feature + ' from ' + predictor_features[0] + ' and ' + predictor_features[1]); \n",
    "plt.xlabel(response_feature + ' Estimation Error '); plt.ylabel('Frequency')\n",
    "plt.xlim(-1*fmax[rindex[0]],fmax[rindex[0]])\n",
    "\n",
    "plt.subplots_adjust(left=0.0, bottom=0.0, right=3.2, top=1.6, wspace=0.1, hspace=0.2)\n",
    "plt.show()\n",
    "\n",
    "\n",
    "Including brittleness only resulted in a slight improvement.  \n",
    "\n",
    "* due to the nonlinear nature of brittleness\n",
    "\n",
    "#### Building a Decision Tree Regression Model\n",
    "\n",
    "Let's build our third machine learning model with scikit learn.  We will work with a decision tree.  We will use both predictor features, porosity and brittleness, and one response feature, production.\n",
    "\n",
    "The hyperparameters include:\n",
    "\n",
    "* **min_samples_leaf** - the minimum number of data in each region, reduce to increase complexity\n",
    "* **max_depth** - maximum number of layers of decisions, increase to increase complexity\n",
    "* **max_leaf_nodes** - maximum number of regions, increase to increase complexity\n",
    "\n",
    "# Decison Tree Model with scikit learn\n",
    "from sklearn import tree                                     # for accessing tree information\n",
    "\n",
    "# Step 1. Instantiate the Model \n",
    "decision_tree_reg = tree.DecisionTreeRegressor(min_samples_leaf=5, max_depth = 3)\n",
    "\n",
    "# Step 2: Fit the Data on Training Data\n",
    "decision_tree_reg.fit(X_train.values.reshape(n_train,2), y_train[response_feature]) # fit model\n",
    "\n",
    "# Plot model fit\n",
    "plt.subplot(121)\n",
    "plt = visualize_model(decision_tree_reg,X_test[predictor_features[0]],X_test[predictor_features[1]],y_test[response_feature],'Testing Data and Decision Tree Model')\n",
    "plt.subplots_adjust(left=0.0, bottom=0.0, right=1.2, top=1.2, wspace=0.3, hspace=0.2)\n",
    "\n",
    "# Step 3: - Make predictions using the testing dataset\n",
    "tree_y_pred = decision_tree_reg.predict(X_test.values.reshape(n_test,2))\n",
    "\n",
    "# Report the goodness of fit\n",
    "print('Variance explained: %.2f' % r2_score(y_test, tree_y_pred))\n",
    "\n",
    "# Calculate the error at withheld testing samples\n",
    "tree_y_res = tree_y_pred - y_test['Production'].values\n",
    "\n",
    "plt.subplot(122)\n",
    "plt.hist(tree_y_res, alpha = 0.2, color = 'red', edgecolor = 'black', bins=np.linspace(-1*fmax[rindex[0]],fmax[rindex[0]],40))\n",
    "plt.title('Decision Tree Model Prediction Error - ' + response_feature + ' from ' + predictor_features[0] + ' and ' + predictor_features[1]); \n",
    "plt.xlabel(response_feature + ' Estimation Error '); plt.ylabel('Frequency')\n",
    "plt.xlim(-1*fmax[rindex[0]],fmax[rindex[0]])\n",
    "\n",
    "plt.subplots_adjust(left=0.0, bottom=0.0, right=3.2, top=1.6, wspace=0.1, hspace=0.2)\n",
    "plt.show()\n",
    "\n",
    "#### Building a Support Vector Machine Regression Model\n",
    "\n",
    "Let's build our fourth machine learning model with scikit learn.  We will work with a support vector machine!  We will use both predictor features, porosity and brittleness, and one response feature, production.  \n",
    "\n",
    "The hyperparameters include:\n",
    "\n",
    "* **kernel** - try linear, poly and rbf (radial basis function), for poly increase degree to increase complexity\n",
    "* **C** - cost (inverse of margin width) - increase to increase complexity\n",
    "\n",
    "# Support Vector Regression Model with scikit learn\n",
    "from sklearn import linear_model\n",
    "\n",
    "# Step 1. Instantiate the Model \n",
    "support_vector_reg = svm.SVR(kernel='poly', C=0.010, gamma='auto', degree=2, epsilon=.01,coef0=1,max_iter=1000)\n",
    "\n",
    "# Step 2: Fit the Data on Training Data\n",
    "support_vector_reg.fit(X_train.values.reshape(n_train,2), y_train[response_feature]) # fit model\n",
    "\n",
    "# Plot model fit\n",
    "plt.subplot(121)\n",
    "plt = visualize_model(support_vector_reg,X_test[predictor_features[0]],X_test[predictor_features[1]],y_test[response_feature],'Testing Data and Support Vector Model')\n",
    "\n",
    "# Step 3: - Make predictions using the testing dataset\n",
    "svm_y_pred = support_vector_reg.predict(X_test.values.reshape(n_test,2))\n",
    "\n",
    "# Report the goodness of fit\n",
    "print('Variance explained: %.2f' % r2_score(y_test, svm_y_pred))\n",
    "\n",
    "# Calculate the error at withheld testing samples\n",
    "svm_y_res = svm_y_pred - y_test['Production'].values\n",
    "\n",
    "plt.subplot(122)\n",
    "plt.hist(svm_y_res, alpha = 0.2, color = 'red', edgecolor = 'black', bins=np.linspace(-1*fmax[rindex[0]],fmax[rindex[0]],40))\n",
    "plt.title('Support Vector Machine Model Prediction Error - ' + response_feature + ' from ' + predictor_features[0] + ' and ' + predictor_features[1]); \n",
    "plt.xlabel(response_feature + ' Estimation Error '); plt.ylabel('Frequency')\n",
    "plt.xlim(-1*fmax[rindex[0]],fmax[rindex[0]])\n",
    "\n",
    "plt.subplots_adjust(left=0.0, bottom=0.0, right=3.2, top=1.6, wspace=0.1, hspace=0.2)\n",
    "plt.show()\n",
    "\n",
    "Let's put all our models together for one visualization of our:\n",
    "\n",
    "* models with the withheld testing data\n",
    "\n",
    "* error at withheld testing data samples distribution\n",
    "\n",
    "plt.subplot(231)\n",
    "plt = visualize_model(multilinear_reg,X_test[predictor_features[0]],X_test[predictor_features[1]],y_test[response_feature],'Training Data and Multilinear Regression Model')\n",
    "\n",
    "plt.subplot(234)\n",
    "plt.hist(multilinear_y_res, alpha = 0.2, color = 'red', edgecolor = 'black', bins=np.linspace(-1*fmax[rindex[0]],fmax[rindex[0]],40))\n",
    "plt.title('Linear Regression Model Prediction Error - ' + response_feature + ' from ' + predictor_features[0] + ' and ' + predictor_features[1]); \n",
    "plt.xlabel(response_feature + ' Estimation Error '); plt.ylabel('Frequency')\n",
    "plt.xlim(-1*fmax[rindex[0]],fmax[rindex[0]])\n",
    "\n",
    "plt.subplot(232)\n",
    "plt = visualize_model(decision_tree_reg,X_test[predictor_features[0]],X_test[predictor_features[1]],y_test[response_feature],'Training Data and Decision Tree Model')\n",
    "\n",
    "plt.subplot(235)\n",
    "plt.hist(tree_y_res, alpha = 0.2, color = 'red', edgecolor = 'black', bins=np.linspace(-1*fmax[rindex[0]],fmax[rindex[0]],40))\n",
    "plt.title('Decision Tree Model Prediction Error - ' + response_feature + ' from ' + predictor_features[0] + ' and ' + predictor_features[1]); \n",
    "plt.xlabel(response_feature + ' Estimation Error '); plt.ylabel('Frequency')\n",
    "plt.xlim(-1*fmax[rindex[0]],fmax[rindex[0]])\n",
    "\n",
    "plt.subplot(233)\n",
    "plt = visualize_model(support_vector_reg,X_test[predictor_features[0]],X_test[predictor_features[1]],y_test[response_feature],'Training Data and Support Vector Model')\n",
    "\n",
    "plt.subplot(236)\n",
    "plt.hist(svm_y_res, alpha = 0.2, color = 'red', edgecolor = 'black', bins=np.linspace(-1*fmax[rindex[0]],fmax[rindex[0]],40))\n",
    "plt.title('Support Vector Machine Model Prediction Error - ' + response_feature + ' from ' + predictor_features[0] + ' and ' + predictor_features[1]); \n",
    "plt.xlabel(response_feature + ' Estimation Error '); plt.ylabel('Frequency')\n",
    "plt.xlim(-1*fmax[rindex[0]],fmax[rindex[0]])\n",
    "\n",
    "plt.subplots_adjust(left=0.0, bottom=0.0, right=3.2, top=2.6, wspace=0.1, hspace=0.2)\n",
    "plt.show()\n",
    "\n",
    "I'll end here for brevity, but I invite you to continue. There are many other scikit learn methods to explore and there are further opportunities for model cross validation and hyperparameter tuning.  \n",
    "\n",
    "* return to the beginning and select a different pair of predictor features and try again\n",
    "\n",
    "import pandas as pd\n",
    "import matplotlib.pyplot as plt\n",
    "import seaborn as sns\n",
    "from sklearn.impute import SimpleImputer\n",
    "\n",
    "# Replace 'your_data.csv' with the path to your dataset\n",
    "file_path = 'Cleaned_HackathonData2024.csv'\n",
    "data = pd.read_csv(file_path)\n",
    "\n",
    "# Separating numeric and non-numeric columns\n",
    "numeric_data = data.select_dtypes(include=['float64', 'int64'])\n",
    "non_numeric_data = data.select_dtypes(exclude=['float64', 'int64'])\n",
    "\n",
    "# Imputers for different types of data\n",
    "numeric_imputer = SimpleImputer(strategy='mean')\n",
    "non_numeric_imputer = SimpleImputer(strategy='most_frequent')\n",
    "\n",
    "# Imputation\n",
    "numeric_data_imputed = pd.DataFrame(numeric_imputer.fit_transform(numeric_data), columns=numeric_data.columns)\n",
    "non_numeric_data_imputed = pd.DataFrame(non_numeric_imputer.fit_transform(non_numeric_data), columns=non_numeric_data.columns)\n",
    "\n",
    "# Combine the data back\n",
    "data_imputed_combined = pd.concat([numeric_data_imputed, non_numeric_data_imputed], axis=1)\n",
    "\n",
    "# Basic statistical analysis on the imputed numeric data\n",
    "statistical_analysis_numeric = numeric_data_imputed.describe()\n",
    "statistical_analysis_numeric\n",
    "\n",
    "# Visualization of the completeness of the dataset before and after imputation\n",
    "plt.figure(figsize=(12, 6))\n",
    "\n",
    "# Before imputation\n",
    "plt.subplot(1, 2, 1)\n",
    "sns.heatmap(data.isna(), cbar=False)\n",
    "plt.title('Before Imputation')\n",
    "plt.xlabel('Columns')\n",
    "plt.ylabel('Index')\n",
    "\n",
    "# After imputation\n",
    "plt.subplot(1, 2, 2)\n",
    "sns.heatmap(data_imputed_combined.isna(), cbar=False)\n",
    "plt.title('After Imputation')\n",
    "plt.xlabel('Columns')\n",
    "plt.ylabel('Index')\n",
    "\n",
    "plt.tight_layout()\n",
    "plt.show()"
   ]
  }
 ],
 "metadata": {
  "kernelspec": {
   "display_name": "Python 3 (ipykernel)",
   "language": "python",
   "name": "python3"
  },
  "language_info": {
   "codemirror_mode": {
    "name": "ipython",
    "version": 3
   },
   "file_extension": ".py",
   "mimetype": "text/x-python",
   "name": "python",
   "nbconvert_exporter": "python",
   "pygments_lexer": "ipython3",
   "version": "3.9.13"
  }
 },
 "nbformat": 4,
 "nbformat_minor": 5
}
